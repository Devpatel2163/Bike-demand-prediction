{
 "cells": [
  {
   "cell_type": "code",
   "execution_count": 1,
   "metadata": {
    "id": "Nz_9TkuoNk7u"
   },
   "outputs": [],
   "source": [
    "import pandas as pd\n",
    "import numpy as np\n",
    "import pickle\n",
    "from datetime import datetime"
   ]
  },
  {
   "cell_type": "code",
   "execution_count": 4,
   "metadata": {
    "id": "OJZaM8ZrNz62"
   },
   "outputs": [],
   "source": [
    "# Load the Model\n",
    "model = pickle.load(open(r'D:\\Bike_demand_prediction\\xgboost_regressor_r3_0_93_v1.pkl','rb'))"
   ]
  },
  {
   "cell_type": "code",
   "execution_count": 5,
   "metadata": {
    "id": "CpsqDLMVOKe5"
   },
   "outputs": [],
   "source": [
    "# Load Standard Scaler\n",
    "sc = pickle.load(open(r'D:\\Bike_demand_prediction\\StandardScaler.pkl','rb'))"
   ]
  },
  {
   "cell_type": "markdown",
   "metadata": {
    "id": "0ig60R3UO0ie"
   },
   "source": [
    "# Convert User input into Model Consumable Format."
   ]
  },
  {
   "cell_type": "code",
   "execution_count": 6,
   "metadata": {
    "id": "5_PFh3_uOikj"
   },
   "outputs": [],
   "source": [
    "# input\n",
    "date=\"10/06/2023\"\n",
    "hour=21\n",
    "temperature=25\n",
    "humidity=55\n",
    "wind_speed=67\n",
    "visibility=25\n",
    "solar_radiation=0.0\n",
    "rainfall=0.7\n",
    "snowfall=0.2\n",
    "seasons=\"Winter\"\n",
    "holiday=\"No Holiday\"\n",
    "functioning_day=\"Yes\""
   ]
  },
  {
   "cell_type": "markdown",
   "metadata": {
    "id": "SkctKE1NCmFW"
   },
   "source": [
    "## Concept Clearence"
   ]
  },
  {
   "cell_type": "code",
   "execution_count": 7,
   "metadata": {
    "colab": {
     "base_uri": "https://localhost:8080/"
    },
    "executionInfo": {
     "elapsed": 856,
     "status": "ok",
     "timestamp": 1717615786577,
     "user": {
      "displayName": "Sugam Raval",
      "userId": "16921025679813916176"
     },
     "user_tz": 420
    },
    "id": "IJ3GHIjJQhoH",
    "outputId": "40fe8e94-d80c-4f23-9fa9-159cf6f0c783"
   },
   "outputs": [
    {
     "name": "stdout",
     "output_type": "stream",
     "text": [
      "0 1\n"
     ]
    }
   ],
   "source": [
    "# first convert holiday and functioning_day\n",
    "holiday_opt = {'No Holiday':0,'Holiday':1}\n",
    "functioning_day_opt = {'Yes':1,'No':0}\n",
    "\n",
    "holiday_choice = holiday_opt[holiday]\n",
    "functioning_day_choice = functioning_day_opt[functioning_day]\n",
    "print(holiday_choice, functioning_day_choice)"
   ]
  },
  {
   "cell_type": "code",
   "execution_count": 8,
   "metadata": {
    "colab": {
     "base_uri": "https://localhost:8080/"
    },
    "executionInfo": {
     "elapsed": 4,
     "status": "ok",
     "timestamp": 1717618024033,
     "user": {
      "displayName": "Sugam Raval",
      "userId": "16921025679813916176"
     },
     "user_tz": 420
    },
    "id": "CxvlsVJd4PQ8",
    "outputId": "4695c5b1-90e6-4bda-ba17-c5f3b0cc50b5"
   },
   "outputs": [
    {
     "name": "stdout",
     "output_type": "stream",
     "text": [
      "10 6 2023 Saturday\n"
     ]
    }
   ],
   "source": [
    "# Now encoding the date\n",
    "from datetime import datetime\n",
    "dt = datetime.strptime(date,\"%d/%m/%Y\")\n",
    "day  = dt.day\n",
    "month = dt.month\n",
    "year = dt.year\n",
    "day_name = dt.strftime('%A')\n",
    "print(day,month,year,day_name)"
   ]
  },
  {
   "cell_type": "code",
   "execution_count": 9,
   "metadata": {
    "colab": {
     "base_uri": "https://localhost:8080/",
     "height": 98
    },
    "executionInfo": {
     "elapsed": 817,
     "status": "ok",
     "timestamp": 1717618294370,
     "user": {
      "displayName": "Sugam Raval",
      "userId": "16921025679813916176"
     },
     "user_tz": 420
    },
    "id": "R5gK2eIr6IXB",
    "outputId": "ec44829a-1b0a-4ac8-a90b-c68ed96535e1"
   },
   "outputs": [
    {
     "data": {
      "text/html": [
       "<div>\n",
       "<style scoped>\n",
       "    .dataframe tbody tr th:only-of-type {\n",
       "        vertical-align: middle;\n",
       "    }\n",
       "\n",
       "    .dataframe tbody tr th {\n",
       "        vertical-align: top;\n",
       "    }\n",
       "\n",
       "    .dataframe thead th {\n",
       "        text-align: right;\n",
       "    }\n",
       "</style>\n",
       "<table border=\"1\" class=\"dataframe\">\n",
       "  <thead>\n",
       "    <tr style=\"text-align: right;\">\n",
       "      <th></th>\n",
       "      <th>Hour</th>\n",
       "      <th>Temperature(°C)</th>\n",
       "      <th>Humidity(%)</th>\n",
       "      <th>Wind speed (m/s)</th>\n",
       "      <th>Visibility (10m)</th>\n",
       "      <th>Solar Radiation (MJ/m2)</th>\n",
       "      <th>Rainfall(mm)</th>\n",
       "      <th>Snowfall (cm)</th>\n",
       "      <th>Holiday</th>\n",
       "      <th>Functioning Day</th>\n",
       "      <th>Day</th>\n",
       "      <th>Month</th>\n",
       "      <th>Year</th>\n",
       "    </tr>\n",
       "  </thead>\n",
       "  <tbody>\n",
       "    <tr>\n",
       "      <th>0</th>\n",
       "      <td>21</td>\n",
       "      <td>25</td>\n",
       "      <td>55</td>\n",
       "      <td>67</td>\n",
       "      <td>25</td>\n",
       "      <td>0.0</td>\n",
       "      <td>0.7</td>\n",
       "      <td>0.2</td>\n",
       "      <td>0</td>\n",
       "      <td>1</td>\n",
       "      <td>10</td>\n",
       "      <td>6</td>\n",
       "      <td>2023</td>\n",
       "    </tr>\n",
       "  </tbody>\n",
       "</table>\n",
       "</div>"
      ],
      "text/plain": [
       "   Hour  Temperature(°C)  Humidity(%)  Wind speed (m/s)  Visibility (10m)  \\\n",
       "0    21               25           55                67                25   \n",
       "\n",
       "   Solar Radiation (MJ/m2)  Rainfall(mm)  Snowfall (cm)  Holiday  \\\n",
       "0                      0.0           0.7            0.2        0   \n",
       "\n",
       "   Functioning Day  Day  Month  Year  \n",
       "0                1   10      6  2023  "
      ]
     },
     "execution_count": 9,
     "metadata": {},
     "output_type": "execute_result"
    }
   ],
   "source": [
    "# Dataframe :1 ---> other_df\n",
    "# feature sequence need to pass to model : take sequence from X.columns from main file\n",
    "\n",
    "# Feature sequence to be pass to model\n",
    "feature_squence_list = ['Hour', 'Temperature(°C)', 'Humidity(%)', 'Wind speed (m/s)','Visibility (10m)',\n",
    "                        'Solar Radiation (MJ/m2)', 'Rainfall(mm)','Snowfall (cm)', 'Holiday',\n",
    "                        'Functioning Day', 'Day', 'Month', 'Year']\n",
    "\n",
    "# user values to be passed in the sequence of above.\n",
    "user_input = [hour,temperature,humidity,wind_speed,visibility,solar_radiation,rainfall,snowfall,\n",
    "               holiday_opt[holiday],functioning_day_opt[functioning_day],dt.day,dt.month,dt.year]\n",
    "other_df = pd.DataFrame(columns=feature_squence_list,data=[user_input])\n",
    "other_df"
   ]
  },
  {
   "cell_type": "code",
   "execution_count": 10,
   "metadata": {
    "colab": {
     "base_uri": "https://localhost:8080/",
     "height": 89
    },
    "executionInfo": {
     "elapsed": 435,
     "status": "ok",
     "timestamp": 1717618127489,
     "user": {
      "displayName": "Sugam Raval",
      "userId": "16921025679813916176"
     },
     "user_tz": 420
    },
    "id": "OTlrrW5eAzuD",
    "outputId": "401e2864-d1f5-4850-a1e5-12e8ad5a9a48"
   },
   "outputs": [
    {
     "data": {
      "text/html": [
       "<div>\n",
       "<style scoped>\n",
       "    .dataframe tbody tr th:only-of-type {\n",
       "        vertical-align: middle;\n",
       "    }\n",
       "\n",
       "    .dataframe tbody tr th {\n",
       "        vertical-align: top;\n",
       "    }\n",
       "\n",
       "    .dataframe thead th {\n",
       "        text-align: right;\n",
       "    }\n",
       "</style>\n",
       "<table border=\"1\" class=\"dataframe\">\n",
       "  <thead>\n",
       "    <tr style=\"text-align: right;\">\n",
       "      <th></th>\n",
       "      <th>Spring</th>\n",
       "      <th>Summer</th>\n",
       "      <th>Winter</th>\n",
       "    </tr>\n",
       "  </thead>\n",
       "  <tbody>\n",
       "    <tr>\n",
       "      <th>0</th>\n",
       "      <td>0</td>\n",
       "      <td>0</td>\n",
       "      <td>1</td>\n",
       "    </tr>\n",
       "  </tbody>\n",
       "</table>\n",
       "</div>"
      ],
      "text/plain": [
       "   Spring  Summer  Winter\n",
       "0       0       0       1"
      ]
     },
     "execution_count": 10,
     "metadata": {},
     "output_type": "execute_result"
    }
   ],
   "source": [
    "# Dataframe:2-----> seasons_df\n",
    "# Now handle the Seasons\n",
    "seasons_col = ['Spring', 'Summer', 'Winter']\n",
    "saeasons_data = np.zeros((1,len(seasons_col)),dtype=int)\n",
    "\n",
    "seasons_df = pd.DataFrame(columns=seasons_col,data=saeasons_data)\n",
    "\n",
    "if seasons in seasons_col:\n",
    "  seasons_df[seasons] = 1\n",
    "\n",
    "seasons_df"
   ]
  },
  {
   "cell_type": "code",
   "execution_count": 11,
   "metadata": {
    "colab": {
     "base_uri": "https://localhost:8080/",
     "height": 89
    },
    "executionInfo": {
     "elapsed": 915,
     "status": "ok",
     "timestamp": 1717618026901,
     "user": {
      "displayName": "Sugam Raval",
      "userId": "16921025679813916176"
     },
     "user_tz": 420
    },
    "id": "xOvSD_pi-lVh",
    "outputId": "1fb2ef69-2cd1-4df7-e678-f0dfa347765a"
   },
   "outputs": [
    {
     "data": {
      "text/html": [
       "<div>\n",
       "<style scoped>\n",
       "    .dataframe tbody tr th:only-of-type {\n",
       "        vertical-align: middle;\n",
       "    }\n",
       "\n",
       "    .dataframe tbody tr th {\n",
       "        vertical-align: top;\n",
       "    }\n",
       "\n",
       "    .dataframe thead th {\n",
       "        text-align: right;\n",
       "    }\n",
       "</style>\n",
       "<table border=\"1\" class=\"dataframe\">\n",
       "  <thead>\n",
       "    <tr style=\"text-align: right;\">\n",
       "      <th></th>\n",
       "      <th>Monday</th>\n",
       "      <th>Saturday</th>\n",
       "      <th>Sunday</th>\n",
       "      <th>Thursday</th>\n",
       "      <th>Tuesday</th>\n",
       "      <th>Wednesday</th>\n",
       "    </tr>\n",
       "  </thead>\n",
       "  <tbody>\n",
       "    <tr>\n",
       "      <th>0</th>\n",
       "      <td>0</td>\n",
       "      <td>1</td>\n",
       "      <td>0</td>\n",
       "      <td>0</td>\n",
       "      <td>0</td>\n",
       "      <td>0</td>\n",
       "    </tr>\n",
       "  </tbody>\n",
       "</table>\n",
       "</div>"
      ],
      "text/plain": [
       "   Monday  Saturday  Sunday  Thursday  Tuesday  Wednesday\n",
       "0       0         1       0         0        0          0"
      ]
     },
     "execution_count": 11,
     "metadata": {},
     "output_type": "execute_result"
    }
   ],
   "source": [
    "# Dataframe: 3 ---> week_day_df\n",
    "# Now handle the weekday..\n",
    "week_day_col = ['Monday', 'Saturday', 'Sunday','Thursday', 'Tuesday', 'Wednesday']\n",
    "week_day_data = np.zeros((1,len(week_day_col)),dtype=int)\n",
    "\n",
    "week_day_df = pd.DataFrame(columns=week_day_col,data=week_day_data)\n",
    "\n",
    "if day_name in week_day_col:\n",
    "  week_day_df[day_name] = 1\n",
    "\n",
    "week_day_df"
   ]
  },
  {
   "cell_type": "code",
   "execution_count": 12,
   "metadata": {
    "colab": {
     "base_uri": "https://localhost:8080/",
     "height": 165
    },
    "executionInfo": {
     "elapsed": 592,
     "status": "ok",
     "timestamp": 1717618446098,
     "user": {
      "displayName": "Sugam Raval",
      "userId": "16921025679813916176"
     },
     "user_tz": 420
    },
    "id": "Lt_ItN6HB5AE",
    "outputId": "0ce30b90-ce11-42b7-d5bd-600d30e702e4"
   },
   "outputs": [
    {
     "data": {
      "text/html": [
       "<div>\n",
       "<style scoped>\n",
       "    .dataframe tbody tr th:only-of-type {\n",
       "        vertical-align: middle;\n",
       "    }\n",
       "\n",
       "    .dataframe tbody tr th {\n",
       "        vertical-align: top;\n",
       "    }\n",
       "\n",
       "    .dataframe thead th {\n",
       "        text-align: right;\n",
       "    }\n",
       "</style>\n",
       "<table border=\"1\" class=\"dataframe\">\n",
       "  <thead>\n",
       "    <tr style=\"text-align: right;\">\n",
       "      <th></th>\n",
       "      <th>Hour</th>\n",
       "      <th>Temperature(°C)</th>\n",
       "      <th>Humidity(%)</th>\n",
       "      <th>Wind speed (m/s)</th>\n",
       "      <th>Visibility (10m)</th>\n",
       "      <th>Solar Radiation (MJ/m2)</th>\n",
       "      <th>Rainfall(mm)</th>\n",
       "      <th>Snowfall (cm)</th>\n",
       "      <th>Holiday</th>\n",
       "      <th>Functioning Day</th>\n",
       "      <th>...</th>\n",
       "      <th>Year</th>\n",
       "      <th>Spring</th>\n",
       "      <th>Summer</th>\n",
       "      <th>Winter</th>\n",
       "      <th>Monday</th>\n",
       "      <th>Saturday</th>\n",
       "      <th>Sunday</th>\n",
       "      <th>Thursday</th>\n",
       "      <th>Tuesday</th>\n",
       "      <th>Wednesday</th>\n",
       "    </tr>\n",
       "  </thead>\n",
       "  <tbody>\n",
       "    <tr>\n",
       "      <th>0</th>\n",
       "      <td>21</td>\n",
       "      <td>25</td>\n",
       "      <td>55</td>\n",
       "      <td>67</td>\n",
       "      <td>25</td>\n",
       "      <td>0.0</td>\n",
       "      <td>0.7</td>\n",
       "      <td>0.2</td>\n",
       "      <td>0</td>\n",
       "      <td>1</td>\n",
       "      <td>...</td>\n",
       "      <td>2023</td>\n",
       "      <td>0</td>\n",
       "      <td>0</td>\n",
       "      <td>1</td>\n",
       "      <td>0</td>\n",
       "      <td>1</td>\n",
       "      <td>0</td>\n",
       "      <td>0</td>\n",
       "      <td>0</td>\n",
       "      <td>0</td>\n",
       "    </tr>\n",
       "  </tbody>\n",
       "</table>\n",
       "<p>1 rows × 22 columns</p>\n",
       "</div>"
      ],
      "text/plain": [
       "   Hour  Temperature(°C)  Humidity(%)  Wind speed (m/s)  Visibility (10m)  \\\n",
       "0    21               25           55                67                25   \n",
       "\n",
       "   Solar Radiation (MJ/m2)  Rainfall(mm)  Snowfall (cm)  Holiday  \\\n",
       "0                      0.0           0.7            0.2        0   \n",
       "\n",
       "   Functioning Day  ...  Year  Spring  Summer  Winter  Monday  Saturday  \\\n",
       "0                1  ...  2023       0       0       1       0         1   \n",
       "\n",
       "   Sunday  Thursday  Tuesday  Wednesday  \n",
       "0       0         0        0          0  \n",
       "\n",
       "[1 rows x 22 columns]"
      ]
     },
     "execution_count": 12,
     "metadata": {},
     "output_type": "execute_result"
    }
   ],
   "source": [
    "# Concate the 3 dataFrame and make it 1 DataFrame for model input\n",
    "test_df = pd.concat([other_df,seasons_df,week_day_df],axis=1)\n",
    "test_df"
   ]
  },
  {
   "cell_type": "code",
   "execution_count": 13,
   "metadata": {
    "colab": {
     "base_uri": "https://localhost:8080/"
    },
    "executionInfo": {
     "elapsed": 1427,
     "status": "ok",
     "timestamp": 1717618852381,
     "user": {
      "displayName": "Sugam Raval",
      "userId": "16921025679813916176"
     },
     "user_tz": 420
    },
    "id": "kUbo-0E9D2po",
    "outputId": "ba733198-94bd-4fd5-bf05-67a8736349e7"
   },
   "outputs": [
    {
     "data": {
      "text/plain": [
       "array([[ 1.36681471,  1.01214045, -0.15409119, 63.11301355, -2.33371591,\n",
       "        -0.65681529,  0.46358031,  0.29083855, -0.22754885,  0.18254726,\n",
       "        -0.64636159, -0.14853965, 18.24263884, -0.57427456, -0.58152447,\n",
       "         1.72810536, -0.39840954,  2.45255275, -0.41815465, -0.40773843,\n",
       "        -0.40559398, -0.41815465]])"
      ]
     },
     "execution_count": 13,
     "metadata": {},
     "output_type": "execute_result"
    }
   ],
   "source": [
    "# scalling the data\n",
    "test_df_sc = sc.transform(test_df)\n",
    "test_df_sc"
   ]
  },
  {
   "cell_type": "code",
   "execution_count": 14,
   "metadata": {
    "colab": {
     "base_uri": "https://localhost:8080/"
    },
    "executionInfo": {
     "elapsed": 8,
     "status": "ok",
     "timestamp": 1717619029955,
     "user": {
      "displayName": "Sugam Raval",
      "userId": "16921025679813916176"
     },
     "user_tz": 420
    },
    "id": "MYmTgbBID-et",
    "outputId": "e6a3e8f8-17fb-421e-8f92-a19cbc7c4f34"
   },
   "outputs": [
    {
     "name": "stdout",
     "output_type": "stream",
     "text": [
      "Rented Bike Demand on Date : 10/06/2023 & Time : 21 is : 587\n"
     ]
    }
   ],
   "source": [
    "# prediction\n",
    "pred_test =model.predict(test_df_sc)\n",
    "print(f\"Rented Bike Demand on Date : {date} & Time : {hour} is : {int(pred_test[0].round())}\")"
   ]
  },
  {
   "cell_type": "markdown",
   "metadata": {
    "id": "zcFyKbzgCsNB"
   },
   "source": [
    "## Implement Through Function"
   ]
  },
  {
   "cell_type": "code",
   "execution_count": null,
   "metadata": {
    "id": "rDmvVo7zCScW"
   },
   "outputs": [],
   "source": [
    "def user_input_to_model_input(user_input):\n",
    "\n",
    "  # input :\n",
    "  # {'date':'10/06/2023','hour':21,'temperature':25',humidity':55,'wind_speed':67,'visibility':25,\n",
    "  # 'solar_radiation':0.0,'rainfall':0.7,'snowfall':0.2,'seasons':\"Winter\",'holiday':\"No Holiday\",'functioning_day':\"Yes\"}\n",
    "  input = [i for i in user_input.values()]\n",
    "  #-----------------------------------------------------------------------------------------------------------------------\n",
    "  # first convert holiday and functioning_day\n",
    "  holiday_opt = {'No Holiday':0,'Holiday':1}\n",
    "  functioning_day_opt = {'Yes':1,'No':0}\n",
    "\n",
    "  holiday_choice = holiday_opt[input[10]]\n",
    "  functioning_day_choice = functioning_day_opt[input[11]]\n",
    "\n",
    "  #-----------------------------------------------------------------------------------------------------------------------\n",
    "  # Now encoding the date\n",
    "  dt = datetime.strptime(input[0],\"%d/%m/%Y\")\n",
    "  day  = dt.day\n",
    "  month = dt.month\n",
    "  year = dt.year\n",
    "  day_name = dt.strftime('%A')\n",
    "\n",
    "  #-----------------------------------------------------------------------------------------------------------------------\n",
    "  # Dataframe :1 ---> other_df\n",
    "  # Feature sequence to be pass to model\n",
    "  feature_squence_list = ['Hour', 'Temperature(°C)', 'Humidity(%)', 'Wind speed (m/s)','Visibility (10m)',\n",
    "                          'Solar Radiation (MJ/m2)', 'Rainfall(mm)','Snowfall (cm)', 'Holiday',\n",
    "                          'Functioning Day', 'Day', 'Month', 'Year']\n",
    "\n",
    "  # user values to be passed in the sequence of above.\n",
    "  user_input =input[1:9]\n",
    "  other_input =[holiday_choice,functioning_day_choice,day,month,year]\n",
    "  user_input.extend(other_input)\n",
    "\n",
    "  other_df = pd.DataFrame(columns=feature_squence_list,data=[user_input])\n",
    "\n",
    "  #-----------------------------------------------------------------------------------------------------------------------\n",
    "  # Dataframe:2-----> seasons_df\n",
    "  # Now handle the Seasons\n",
    "  seasons_col = ['Spring', 'Summer', 'Winter']\n",
    "  saeasons_data = np.zeros((1,len(seasons_col)),dtype=int)\n",
    "\n",
    "  seasons_df = pd.DataFrame(columns=seasons_col,data=saeasons_data)\n",
    "\n",
    "  if input[9] in seasons_col:    # input[9] --> 'Winter'\n",
    "    seasons_df[input[9]] = 1\n",
    "\n",
    "  #-----------------------------------------------------------------------------------------------------------------------\n",
    "  # Dataframe: 3 ---> week_day_df\n",
    "  # Now handle the weekday..\n",
    "  week_day_col = ['Monday', 'Saturday', 'Sunday','Thursday', 'Tuesday', 'Wednesday']\n",
    "  week_day_data = np.zeros((1,len(week_day_col)),dtype=int)\n",
    "\n",
    "  week_day_df = pd.DataFrame(columns=week_day_col,data=week_day_data)\n",
    "\n",
    "  if day_name in week_day_col:\n",
    "    week_day_df[day_name] = 1\n",
    "\n",
    "  #-----------------------------------------------------------------------------------------------------------------------\n",
    "  # Concate the 3 dataFrame and make it 1 DataFrame for model input\n",
    "  test_df = pd.concat([other_df,seasons_df,week_day_df],axis=1)\n",
    "  test_df\n",
    "\n",
    "  #-----------------------------------------------------------------------------------------------------------------------\n",
    "  # scalling the data\n",
    "  test_df_sc = sc.transform(test_df)\n",
    "  return test_df_sc"
   ]
  },
  {
   "cell_type": "code",
   "execution_count": null,
   "metadata": {
    "id": "xc3LW0U5CriY"
   },
   "outputs": [],
   "source": [
    "test ={'date':'05/06/2024','hour':18,'temperature':-10,'humidity':35,'wind_speed':100,'visibility':20,'solar_radiation':0.0,\n",
    "       'rainfall':0.4,'snowfall':0.7,'seasons':\"Winter\",'holiday':\"No Holiday\",'functioning_day':\"Yes\"}\n",
    "test_data = user_input_to_model_input(test)"
   ]
  },
  {
   "cell_type": "code",
   "execution_count": null,
   "metadata": {
    "colab": {
     "base_uri": "https://localhost:8080/"
    },
    "executionInfo": {
     "elapsed": 5,
     "status": "ok",
     "timestamp": 1717621703125,
     "user": {
      "displayName": "Sugam Raval",
      "userId": "16921025679813916176"
     },
     "user_tz": 420
    },
    "id": "JdvxzKCBJGP5",
    "outputId": "7dc8fffc-87a3-4098-a6ac-dafa76491d87"
   },
   "outputs": [],
   "source": [
    "# test_data :now it is in final format for provide to model\n",
    "test_data"
   ]
  },
  {
   "cell_type": "code",
   "execution_count": null,
   "metadata": {
    "colab": {
     "base_uri": "https://localhost:8080/"
    },
    "executionInfo": {
     "elapsed": 5,
     "status": "ok",
     "timestamp": 1717621705668,
     "user": {
      "displayName": "Sugam Raval",
      "userId": "16921025679813916176"
     },
     "user_tz": 420
    },
    "id": "FAlwoQ3NMUND",
    "outputId": "d1f92054-841a-4154-9ada-b9f2d3ea5380"
   },
   "outputs": [],
   "source": [
    "# prediction\n",
    "pred_test =model.predict(test_data)\n",
    "if pred_test[0] <= 0:\n",
    "  print(f\"Rented Bike Demand on Date : {test['date']} & Time : {test['hour']} is : 0 \")\n",
    "else:\n",
    "  print(f\"Rented Bike Demand on Date : {test['date']} & Time : {test['hour']} is : {int(pred_test[0].round())}\")"
   ]
  },
  {
   "cell_type": "markdown",
   "metadata": {
    "id": "haJy3aJSO7lK"
   },
   "source": [
    "# At the end our Model is ready for deployment...."
   ]
  },
  {
   "cell_type": "markdown",
   "metadata": {
    "id": "jX6OBHSKeGjI"
   },
   "source": [
    "Date (dd/mm/yyyy):10/06/2023\n",
    "Hour (0-23):21\n",
    "Temperature in C:25\n",
    "Humidity :55\n",
    "Wind Speed :67\n",
    "Visibility :25\n",
    "Solar_radiation :0\n",
    "Rainfall :0.7\n",
    "Snowfall :0.2\n",
    "Seasons (Antum/Spring/Summer/Winter):Winter\n",
    "Holiday (No Holiday/Holiday):No Holiday\n",
    "Functioning_day (Yes/No) :Yes"
   ]
  },
  {
   "cell_type": "code",
   "execution_count": null,
   "metadata": {
    "id": "IKai8KUcOqqO"
   },
   "outputs": [],
   "source": []
  }
 ],
 "metadata": {
  "colab": {
   "authorship_tag": "ABX9TyNG9mbKLJlaiSkltCtQITXW",
   "collapsed_sections": [
    "SkctKE1NCmFW",
    "zcFyKbzgCsNB"
   ],
   "mount_file_id": "1G598oLvl5MV9lQ7jiWR7HHDaVfRDH9VU",
   "provenance": []
  },
  "kernelspec": {
   "display_name": "Python 3 (ipykernel)",
   "language": "python",
   "name": "python3"
  },
  "language_info": {
   "codemirror_mode": {
    "name": "ipython",
    "version": 3
   },
   "file_extension": ".py",
   "mimetype": "text/x-python",
   "name": "python",
   "nbconvert_exporter": "python",
   "pygments_lexer": "ipython3",
   "version": "3.11.4"
  }
 },
 "nbformat": 4,
 "nbformat_minor": 1
}
