{
 "cells": [
  {
   "cell_type": "code",
   "execution_count": 189,
   "metadata": {
    "executionInfo": {
     "elapsed": 2218,
     "status": "ok",
     "timestamp": 1717615256404,
     "user": {
      "displayName": "Sugam Raval",
      "userId": "16921025679813916176"
     },
     "user_tz": 420
    },
    "id": "9bVAQ7GP4-3f"
   },
   "outputs": [],
   "source": [
    "# important libraries\n",
    "import pandas as pd\n",
    "import numpy as np\n",
    "import matplotlib.pyplot as plt\n",
    "import seaborn as sns\n",
    "from statsmodels.stats.outliers_influence import variance_inflation_factor\n",
    "from sklearn.preprocessing import OneHotEncoder,OrdinalEncoder\n",
    "from sklearn.model_selection import train_test_split\n",
    "from sklearn.preprocessing import StandardScaler\n",
    "from sklearn.linear_model import LinearRegression\n",
    "from sklearn.metrics import mean_absolute_error,mean_squared_error,r2_score"
   ]
  },
  {
   "cell_type": "markdown",
   "metadata": {
    "id": "CdW496C7PFAl"
   },
   "source": [
    "# Part-1\n"
   ]
  },
  {
   "cell_type": "code",
   "execution_count": 190,
   "metadata": {
    "colab": {
     "base_uri": "https://localhost:8080/",
     "height": 348
    },
    "executionInfo": {
     "elapsed": 63,
     "status": "ok",
     "timestamp": 1717615256405,
     "user": {
      "displayName": "Sugam Raval",
      "userId": "16921025679813916176"
     },
     "user_tz": 420
    },
    "id": "DYz8JEgvIpQN",
    "outputId": "2ca9fa10-90e9-41b9-986f-c7968886b055"
   },
   "outputs": [
    {
     "data": {
      "text/html": [
       "<div>\n",
       "<style scoped>\n",
       "    .dataframe tbody tr th:only-of-type {\n",
       "        vertical-align: middle;\n",
       "    }\n",
       "\n",
       "    .dataframe tbody tr th {\n",
       "        vertical-align: top;\n",
       "    }\n",
       "\n",
       "    .dataframe thead th {\n",
       "        text-align: right;\n",
       "    }\n",
       "</style>\n",
       "<table border=\"1\" class=\"dataframe\">\n",
       "  <thead>\n",
       "    <tr style=\"text-align: right;\">\n",
       "      <th></th>\n",
       "      <th>Date</th>\n",
       "      <th>Rented Bike Count</th>\n",
       "      <th>Hour</th>\n",
       "      <th>Temperature(°C)</th>\n",
       "      <th>Humidity(%)</th>\n",
       "      <th>Wind speed (m/s)</th>\n",
       "      <th>Visibility (10m)</th>\n",
       "      <th>Dew point temperature(°C)</th>\n",
       "      <th>Solar Radiation (MJ/m2)</th>\n",
       "      <th>Rainfall(mm)</th>\n",
       "      <th>Snowfall (cm)</th>\n",
       "      <th>Seasons</th>\n",
       "      <th>Holiday</th>\n",
       "      <th>Functioning Day</th>\n",
       "    </tr>\n",
       "  </thead>\n",
       "  <tbody>\n",
       "    <tr>\n",
       "      <th>0</th>\n",
       "      <td>01/12/2017</td>\n",
       "      <td>254</td>\n",
       "      <td>0</td>\n",
       "      <td>-5.2</td>\n",
       "      <td>37</td>\n",
       "      <td>2.2</td>\n",
       "      <td>2000</td>\n",
       "      <td>-17.6</td>\n",
       "      <td>0.0</td>\n",
       "      <td>0.0</td>\n",
       "      <td>0.0</td>\n",
       "      <td>Winter</td>\n",
       "      <td>No Holiday</td>\n",
       "      <td>Yes</td>\n",
       "    </tr>\n",
       "    <tr>\n",
       "      <th>1</th>\n",
       "      <td>01/12/2017</td>\n",
       "      <td>204</td>\n",
       "      <td>1</td>\n",
       "      <td>-5.5</td>\n",
       "      <td>38</td>\n",
       "      <td>0.8</td>\n",
       "      <td>2000</td>\n",
       "      <td>-17.6</td>\n",
       "      <td>0.0</td>\n",
       "      <td>0.0</td>\n",
       "      <td>0.0</td>\n",
       "      <td>Winter</td>\n",
       "      <td>No Holiday</td>\n",
       "      <td>Yes</td>\n",
       "    </tr>\n",
       "    <tr>\n",
       "      <th>2</th>\n",
       "      <td>01/12/2017</td>\n",
       "      <td>173</td>\n",
       "      <td>2</td>\n",
       "      <td>-6.0</td>\n",
       "      <td>39</td>\n",
       "      <td>1.0</td>\n",
       "      <td>2000</td>\n",
       "      <td>-17.7</td>\n",
       "      <td>0.0</td>\n",
       "      <td>0.0</td>\n",
       "      <td>0.0</td>\n",
       "      <td>Winter</td>\n",
       "      <td>No Holiday</td>\n",
       "      <td>Yes</td>\n",
       "    </tr>\n",
       "    <tr>\n",
       "      <th>3</th>\n",
       "      <td>01/12/2017</td>\n",
       "      <td>107</td>\n",
       "      <td>3</td>\n",
       "      <td>-6.2</td>\n",
       "      <td>40</td>\n",
       "      <td>0.9</td>\n",
       "      <td>2000</td>\n",
       "      <td>-17.6</td>\n",
       "      <td>0.0</td>\n",
       "      <td>0.0</td>\n",
       "      <td>0.0</td>\n",
       "      <td>Winter</td>\n",
       "      <td>No Holiday</td>\n",
       "      <td>Yes</td>\n",
       "    </tr>\n",
       "    <tr>\n",
       "      <th>4</th>\n",
       "      <td>01/12/2017</td>\n",
       "      <td>78</td>\n",
       "      <td>4</td>\n",
       "      <td>-6.0</td>\n",
       "      <td>36</td>\n",
       "      <td>2.3</td>\n",
       "      <td>2000</td>\n",
       "      <td>-18.6</td>\n",
       "      <td>0.0</td>\n",
       "      <td>0.0</td>\n",
       "      <td>0.0</td>\n",
       "      <td>Winter</td>\n",
       "      <td>No Holiday</td>\n",
       "      <td>Yes</td>\n",
       "    </tr>\n",
       "  </tbody>\n",
       "</table>\n",
       "</div>"
      ],
      "text/plain": [
       "         Date  Rented Bike Count  Hour  Temperature(°C)  Humidity(%)  \\\n",
       "0  01/12/2017                254     0             -5.2           37   \n",
       "1  01/12/2017                204     1             -5.5           38   \n",
       "2  01/12/2017                173     2             -6.0           39   \n",
       "3  01/12/2017                107     3             -6.2           40   \n",
       "4  01/12/2017                 78     4             -6.0           36   \n",
       "\n",
       "   Wind speed (m/s)  Visibility (10m)  Dew point temperature(°C)  \\\n",
       "0               2.2              2000                      -17.6   \n",
       "1               0.8              2000                      -17.6   \n",
       "2               1.0              2000                      -17.7   \n",
       "3               0.9              2000                      -17.6   \n",
       "4               2.3              2000                      -18.6   \n",
       "\n",
       "   Solar Radiation (MJ/m2)  Rainfall(mm)  Snowfall (cm) Seasons     Holiday  \\\n",
       "0                      0.0           0.0            0.0  Winter  No Holiday   \n",
       "1                      0.0           0.0            0.0  Winter  No Holiday   \n",
       "2                      0.0           0.0            0.0  Winter  No Holiday   \n",
       "3                      0.0           0.0            0.0  Winter  No Holiday   \n",
       "4                      0.0           0.0            0.0  Winter  No Holiday   \n",
       "\n",
       "  Functioning Day  \n",
       "0             Yes  \n",
       "1             Yes  \n",
       "2             Yes  \n",
       "3             Yes  \n",
       "4             Yes  "
      ]
     },
     "execution_count": 190,
     "metadata": {},
     "output_type": "execute_result"
    }
   ],
   "source": [
    "data_path=r\"D:\\Bike_demand_prediction\\SeoulBikeData (1).csv\"\n",
    "df=pd.read_csv(data_path,encoding=\"unicode_escape\")\n",
    "df.head()"
   ]
  },
  {
   "cell_type": "code",
   "execution_count": 191,
   "metadata": {
    "colab": {
     "base_uri": "https://localhost:8080/"
    },
    "executionInfo": {
     "elapsed": 49,
     "status": "ok",
     "timestamp": 1717615256406,
     "user": {
      "displayName": "Sugam Raval",
      "userId": "16921025679813916176"
     },
     "user_tz": 420
    },
    "id": "mCAiOeGGJSe_",
    "outputId": "e0ef3b97-1e9f-466c-c4d3-7e54e09ac998"
   },
   "outputs": [
    {
     "data": {
      "text/plain": [
       "(8760, 14)"
      ]
     },
     "execution_count": 191,
     "metadata": {},
     "output_type": "execute_result"
    }
   ],
   "source": [
    "df.shape"
   ]
  },
  {
   "cell_type": "code",
   "execution_count": 192,
   "metadata": {
    "colab": {
     "base_uri": "https://localhost:8080/"
    },
    "executionInfo": {
     "elapsed": 1277,
     "status": "ok",
     "timestamp": 1717615257639,
     "user": {
      "displayName": "Sugam Raval",
      "userId": "16921025679813916176"
     },
     "user_tz": 420
    },
    "id": "JUQcdGphI4gR",
    "outputId": "d4ab9949-a5cb-467d-bdd8-310a2bf58254"
   },
   "outputs": [
    {
     "name": "stdout",
     "output_type": "stream",
     "text": [
      "<class 'pandas.core.frame.DataFrame'>\n",
      "RangeIndex: 8760 entries, 0 to 8759\n",
      "Data columns (total 14 columns):\n",
      " #   Column                     Non-Null Count  Dtype  \n",
      "---  ------                     --------------  -----  \n",
      " 0   Date                       8760 non-null   object \n",
      " 1   Rented Bike Count          8760 non-null   int64  \n",
      " 2   Hour                       8760 non-null   int64  \n",
      " 3   Temperature(°C)            8760 non-null   float64\n",
      " 4   Humidity(%)                8760 non-null   int64  \n",
      " 5   Wind speed (m/s)           8760 non-null   float64\n",
      " 6   Visibility (10m)           8760 non-null   int64  \n",
      " 7   Dew point temperature(°C)  8760 non-null   float64\n",
      " 8   Solar Radiation (MJ/m2)    8760 non-null   float64\n",
      " 9   Rainfall(mm)               8760 non-null   float64\n",
      " 10  Snowfall (cm)              8760 non-null   float64\n",
      " 11  Seasons                    8760 non-null   object \n",
      " 12  Holiday                    8760 non-null   object \n",
      " 13  Functioning Day            8760 non-null   object \n",
      "dtypes: float64(6), int64(4), object(4)\n",
      "memory usage: 958.3+ KB\n"
     ]
    }
   ],
   "source": [
    "# information about the dataset\n",
    "df.info()"
   ]
  },
  {
   "cell_type": "code",
   "execution_count": 193,
   "metadata": {
    "colab": {
     "base_uri": "https://localhost:8080/",
     "height": 488
    },
    "executionInfo": {
     "elapsed": 93,
     "status": "ok",
     "timestamp": 1717615257640,
     "user": {
      "displayName": "Sugam Raval",
      "userId": "16921025679813916176"
     },
     "user_tz": 420
    },
    "id": "-FyK8E-QJQ3a",
    "outputId": "c3353a9e-fafd-493c-f583-6e5eaff8a248"
   },
   "outputs": [
    {
     "data": {
      "text/html": [
       "<div>\n",
       "<style scoped>\n",
       "    .dataframe tbody tr th:only-of-type {\n",
       "        vertical-align: middle;\n",
       "    }\n",
       "\n",
       "    .dataframe tbody tr th {\n",
       "        vertical-align: top;\n",
       "    }\n",
       "\n",
       "    .dataframe thead th {\n",
       "        text-align: right;\n",
       "    }\n",
       "</style>\n",
       "<table border=\"1\" class=\"dataframe\">\n",
       "  <thead>\n",
       "    <tr style=\"text-align: right;\">\n",
       "      <th></th>\n",
       "      <th>count</th>\n",
       "      <th>unique</th>\n",
       "      <th>top</th>\n",
       "      <th>freq</th>\n",
       "      <th>mean</th>\n",
       "      <th>std</th>\n",
       "      <th>min</th>\n",
       "      <th>25%</th>\n",
       "      <th>50%</th>\n",
       "      <th>75%</th>\n",
       "      <th>max</th>\n",
       "    </tr>\n",
       "  </thead>\n",
       "  <tbody>\n",
       "    <tr>\n",
       "      <th>Date</th>\n",
       "      <td>8760</td>\n",
       "      <td>365</td>\n",
       "      <td>01/12/2017</td>\n",
       "      <td>24</td>\n",
       "      <td>NaN</td>\n",
       "      <td>NaN</td>\n",
       "      <td>NaN</td>\n",
       "      <td>NaN</td>\n",
       "      <td>NaN</td>\n",
       "      <td>NaN</td>\n",
       "      <td>NaN</td>\n",
       "    </tr>\n",
       "    <tr>\n",
       "      <th>Rented Bike Count</th>\n",
       "      <td>8760.0</td>\n",
       "      <td>NaN</td>\n",
       "      <td>NaN</td>\n",
       "      <td>NaN</td>\n",
       "      <td>704.602055</td>\n",
       "      <td>644.997468</td>\n",
       "      <td>0.0</td>\n",
       "      <td>191.0</td>\n",
       "      <td>504.5</td>\n",
       "      <td>1065.25</td>\n",
       "      <td>3556.0</td>\n",
       "    </tr>\n",
       "    <tr>\n",
       "      <th>Hour</th>\n",
       "      <td>8760.0</td>\n",
       "      <td>NaN</td>\n",
       "      <td>NaN</td>\n",
       "      <td>NaN</td>\n",
       "      <td>11.5</td>\n",
       "      <td>6.922582</td>\n",
       "      <td>0.0</td>\n",
       "      <td>5.75</td>\n",
       "      <td>11.5</td>\n",
       "      <td>17.25</td>\n",
       "      <td>23.0</td>\n",
       "    </tr>\n",
       "    <tr>\n",
       "      <th>Temperature(°C)</th>\n",
       "      <td>8760.0</td>\n",
       "      <td>NaN</td>\n",
       "      <td>NaN</td>\n",
       "      <td>NaN</td>\n",
       "      <td>12.882922</td>\n",
       "      <td>11.944825</td>\n",
       "      <td>-17.8</td>\n",
       "      <td>3.5</td>\n",
       "      <td>13.7</td>\n",
       "      <td>22.5</td>\n",
       "      <td>39.4</td>\n",
       "    </tr>\n",
       "    <tr>\n",
       "      <th>Humidity(%)</th>\n",
       "      <td>8760.0</td>\n",
       "      <td>NaN</td>\n",
       "      <td>NaN</td>\n",
       "      <td>NaN</td>\n",
       "      <td>58.226256</td>\n",
       "      <td>20.362413</td>\n",
       "      <td>0.0</td>\n",
       "      <td>42.0</td>\n",
       "      <td>57.0</td>\n",
       "      <td>74.0</td>\n",
       "      <td>98.0</td>\n",
       "    </tr>\n",
       "    <tr>\n",
       "      <th>Wind speed (m/s)</th>\n",
       "      <td>8760.0</td>\n",
       "      <td>NaN</td>\n",
       "      <td>NaN</td>\n",
       "      <td>NaN</td>\n",
       "      <td>1.724909</td>\n",
       "      <td>1.0363</td>\n",
       "      <td>0.0</td>\n",
       "      <td>0.9</td>\n",
       "      <td>1.5</td>\n",
       "      <td>2.3</td>\n",
       "      <td>7.4</td>\n",
       "    </tr>\n",
       "    <tr>\n",
       "      <th>Visibility (10m)</th>\n",
       "      <td>8760.0</td>\n",
       "      <td>NaN</td>\n",
       "      <td>NaN</td>\n",
       "      <td>NaN</td>\n",
       "      <td>1436.825799</td>\n",
       "      <td>608.298712</td>\n",
       "      <td>27.0</td>\n",
       "      <td>940.0</td>\n",
       "      <td>1698.0</td>\n",
       "      <td>2000.0</td>\n",
       "      <td>2000.0</td>\n",
       "    </tr>\n",
       "    <tr>\n",
       "      <th>Dew point temperature(°C)</th>\n",
       "      <td>8760.0</td>\n",
       "      <td>NaN</td>\n",
       "      <td>NaN</td>\n",
       "      <td>NaN</td>\n",
       "      <td>4.073813</td>\n",
       "      <td>13.060369</td>\n",
       "      <td>-30.6</td>\n",
       "      <td>-4.7</td>\n",
       "      <td>5.1</td>\n",
       "      <td>14.8</td>\n",
       "      <td>27.2</td>\n",
       "    </tr>\n",
       "    <tr>\n",
       "      <th>Solar Radiation (MJ/m2)</th>\n",
       "      <td>8760.0</td>\n",
       "      <td>NaN</td>\n",
       "      <td>NaN</td>\n",
       "      <td>NaN</td>\n",
       "      <td>0.569111</td>\n",
       "      <td>0.868746</td>\n",
       "      <td>0.0</td>\n",
       "      <td>0.0</td>\n",
       "      <td>0.01</td>\n",
       "      <td>0.93</td>\n",
       "      <td>3.52</td>\n",
       "    </tr>\n",
       "    <tr>\n",
       "      <th>Rainfall(mm)</th>\n",
       "      <td>8760.0</td>\n",
       "      <td>NaN</td>\n",
       "      <td>NaN</td>\n",
       "      <td>NaN</td>\n",
       "      <td>0.148687</td>\n",
       "      <td>1.128193</td>\n",
       "      <td>0.0</td>\n",
       "      <td>0.0</td>\n",
       "      <td>0.0</td>\n",
       "      <td>0.0</td>\n",
       "      <td>35.0</td>\n",
       "    </tr>\n",
       "    <tr>\n",
       "      <th>Snowfall (cm)</th>\n",
       "      <td>8760.0</td>\n",
       "      <td>NaN</td>\n",
       "      <td>NaN</td>\n",
       "      <td>NaN</td>\n",
       "      <td>0.075068</td>\n",
       "      <td>0.436746</td>\n",
       "      <td>0.0</td>\n",
       "      <td>0.0</td>\n",
       "      <td>0.0</td>\n",
       "      <td>0.0</td>\n",
       "      <td>8.8</td>\n",
       "    </tr>\n",
       "    <tr>\n",
       "      <th>Seasons</th>\n",
       "      <td>8760</td>\n",
       "      <td>4</td>\n",
       "      <td>Spring</td>\n",
       "      <td>2208</td>\n",
       "      <td>NaN</td>\n",
       "      <td>NaN</td>\n",
       "      <td>NaN</td>\n",
       "      <td>NaN</td>\n",
       "      <td>NaN</td>\n",
       "      <td>NaN</td>\n",
       "      <td>NaN</td>\n",
       "    </tr>\n",
       "    <tr>\n",
       "      <th>Holiday</th>\n",
       "      <td>8760</td>\n",
       "      <td>2</td>\n",
       "      <td>No Holiday</td>\n",
       "      <td>8328</td>\n",
       "      <td>NaN</td>\n",
       "      <td>NaN</td>\n",
       "      <td>NaN</td>\n",
       "      <td>NaN</td>\n",
       "      <td>NaN</td>\n",
       "      <td>NaN</td>\n",
       "      <td>NaN</td>\n",
       "    </tr>\n",
       "    <tr>\n",
       "      <th>Functioning Day</th>\n",
       "      <td>8760</td>\n",
       "      <td>2</td>\n",
       "      <td>Yes</td>\n",
       "      <td>8465</td>\n",
       "      <td>NaN</td>\n",
       "      <td>NaN</td>\n",
       "      <td>NaN</td>\n",
       "      <td>NaN</td>\n",
       "      <td>NaN</td>\n",
       "      <td>NaN</td>\n",
       "      <td>NaN</td>\n",
       "    </tr>\n",
       "  </tbody>\n",
       "</table>\n",
       "</div>"
      ],
      "text/plain": [
       "                            count unique         top  freq         mean  \\\n",
       "Date                         8760    365  01/12/2017    24          NaN   \n",
       "Rented Bike Count          8760.0    NaN         NaN   NaN   704.602055   \n",
       "Hour                       8760.0    NaN         NaN   NaN         11.5   \n",
       "Temperature(°C)            8760.0    NaN         NaN   NaN    12.882922   \n",
       "Humidity(%)                8760.0    NaN         NaN   NaN    58.226256   \n",
       "Wind speed (m/s)           8760.0    NaN         NaN   NaN     1.724909   \n",
       "Visibility (10m)           8760.0    NaN         NaN   NaN  1436.825799   \n",
       "Dew point temperature(°C)  8760.0    NaN         NaN   NaN     4.073813   \n",
       "Solar Radiation (MJ/m2)    8760.0    NaN         NaN   NaN     0.569111   \n",
       "Rainfall(mm)               8760.0    NaN         NaN   NaN     0.148687   \n",
       "Snowfall (cm)              8760.0    NaN         NaN   NaN     0.075068   \n",
       "Seasons                      8760      4      Spring  2208          NaN   \n",
       "Holiday                      8760      2  No Holiday  8328          NaN   \n",
       "Functioning Day              8760      2         Yes  8465          NaN   \n",
       "\n",
       "                                  std   min    25%     50%      75%     max  \n",
       "Date                              NaN   NaN    NaN     NaN      NaN     NaN  \n",
       "Rented Bike Count          644.997468   0.0  191.0   504.5  1065.25  3556.0  \n",
       "Hour                         6.922582   0.0   5.75    11.5    17.25    23.0  \n",
       "Temperature(°C)             11.944825 -17.8    3.5    13.7     22.5    39.4  \n",
       "Humidity(%)                 20.362413   0.0   42.0    57.0     74.0    98.0  \n",
       "Wind speed (m/s)               1.0363   0.0    0.9     1.5      2.3     7.4  \n",
       "Visibility (10m)           608.298712  27.0  940.0  1698.0   2000.0  2000.0  \n",
       "Dew point temperature(°C)   13.060369 -30.6   -4.7     5.1     14.8    27.2  \n",
       "Solar Radiation (MJ/m2)      0.868746   0.0    0.0    0.01     0.93    3.52  \n",
       "Rainfall(mm)                 1.128193   0.0    0.0     0.0      0.0    35.0  \n",
       "Snowfall (cm)                0.436746   0.0    0.0     0.0      0.0     8.8  \n",
       "Seasons                           NaN   NaN    NaN     NaN      NaN     NaN  \n",
       "Holiday                           NaN   NaN    NaN     NaN      NaN     NaN  \n",
       "Functioning Day                   NaN   NaN    NaN     NaN      NaN     NaN  "
      ]
     },
     "execution_count": 193,
     "metadata": {},
     "output_type": "execute_result"
    }
   ],
   "source": [
    "# check the describe--> Numerical and Categorical Data\n",
    "df.describe(include = 'all').T"
   ]
  },
  {
   "cell_type": "code",
   "execution_count": 194,
   "metadata": {
    "colab": {
     "base_uri": "https://localhost:8080/"
    },
    "executionInfo": {
     "elapsed": 87,
     "status": "ok",
     "timestamp": 1717615257640,
     "user": {
      "displayName": "Sugam Raval",
      "userId": "16921025679813916176"
     },
     "user_tz": 420
    },
    "id": "6sQwHjixJoCC",
    "outputId": "e7fbd5e9-a171-4938-bd66-c711d8baeba1"
   },
   "outputs": [
    {
     "name": "stdout",
     "output_type": "stream",
     "text": [
      "Null values :  0\n",
      "Duplicate values :  0\n"
     ]
    }
   ],
   "source": [
    "# check null and duplicates values\n",
    "print('Null values : ',df.isnull().sum().sum())\n",
    "print('Duplicate values : ',df.duplicated().sum().sum())"
   ]
  },
  {
   "cell_type": "code",
   "execution_count": 195,
   "metadata": {
    "colab": {
     "base_uri": "https://localhost:8080/",
     "height": 250
    },
    "executionInfo": {
     "elapsed": 85,
     "status": "ok",
     "timestamp": 1717615257641,
     "user": {
      "displayName": "Sugam Raval",
      "userId": "16921025679813916176"
     },
     "user_tz": 420
    },
    "id": "DmuyplCzPnLc",
    "outputId": "31b7b15c-8e5e-4b3b-bc40-b4c253b548a0"
   },
   "outputs": [
    {
     "name": "stderr",
     "output_type": "stream",
     "text": [
      "C:\\Users\\DELL\\AppData\\Local\\Temp\\ipykernel_11668\\2285769317.py:2: UserWarning: Parsing dates in DD/MM/YYYY format when dayfirst=False (the default) was specified. This may lead to inconsistently parsed dates! Specify a format to ensure consistent parsing.\n",
      "  df['Date'] = pd.to_datetime(df['Date'])\n"
     ]
    },
    {
     "data": {
      "text/html": [
       "<div>\n",
       "<style scoped>\n",
       "    .dataframe tbody tr th:only-of-type {\n",
       "        vertical-align: middle;\n",
       "    }\n",
       "\n",
       "    .dataframe tbody tr th {\n",
       "        vertical-align: top;\n",
       "    }\n",
       "\n",
       "    .dataframe thead th {\n",
       "        text-align: right;\n",
       "    }\n",
       "</style>\n",
       "<table border=\"1\" class=\"dataframe\">\n",
       "  <thead>\n",
       "    <tr style=\"text-align: right;\">\n",
       "      <th></th>\n",
       "      <th>Rented Bike Count</th>\n",
       "      <th>Hour</th>\n",
       "      <th>Temperature(°C)</th>\n",
       "      <th>Humidity(%)</th>\n",
       "      <th>Wind speed (m/s)</th>\n",
       "      <th>Visibility (10m)</th>\n",
       "      <th>Dew point temperature(°C)</th>\n",
       "      <th>Solar Radiation (MJ/m2)</th>\n",
       "      <th>Rainfall(mm)</th>\n",
       "      <th>Snowfall (cm)</th>\n",
       "      <th>Seasons</th>\n",
       "      <th>Holiday</th>\n",
       "      <th>Functioning Day</th>\n",
       "      <th>Day</th>\n",
       "      <th>Month</th>\n",
       "      <th>Year</th>\n",
       "      <th>Weekday</th>\n",
       "    </tr>\n",
       "  </thead>\n",
       "  <tbody>\n",
       "    <tr>\n",
       "      <th>0</th>\n",
       "      <td>254</td>\n",
       "      <td>0</td>\n",
       "      <td>-5.2</td>\n",
       "      <td>37</td>\n",
       "      <td>2.2</td>\n",
       "      <td>2000</td>\n",
       "      <td>-17.6</td>\n",
       "      <td>0.0</td>\n",
       "      <td>0.0</td>\n",
       "      <td>0.0</td>\n",
       "      <td>Winter</td>\n",
       "      <td>No Holiday</td>\n",
       "      <td>Yes</td>\n",
       "      <td>12</td>\n",
       "      <td>1</td>\n",
       "      <td>2017</td>\n",
       "      <td>Thursday</td>\n",
       "    </tr>\n",
       "    <tr>\n",
       "      <th>1</th>\n",
       "      <td>204</td>\n",
       "      <td>1</td>\n",
       "      <td>-5.5</td>\n",
       "      <td>38</td>\n",
       "      <td>0.8</td>\n",
       "      <td>2000</td>\n",
       "      <td>-17.6</td>\n",
       "      <td>0.0</td>\n",
       "      <td>0.0</td>\n",
       "      <td>0.0</td>\n",
       "      <td>Winter</td>\n",
       "      <td>No Holiday</td>\n",
       "      <td>Yes</td>\n",
       "      <td>12</td>\n",
       "      <td>1</td>\n",
       "      <td>2017</td>\n",
       "      <td>Thursday</td>\n",
       "    </tr>\n",
       "    <tr>\n",
       "      <th>2</th>\n",
       "      <td>173</td>\n",
       "      <td>2</td>\n",
       "      <td>-6.0</td>\n",
       "      <td>39</td>\n",
       "      <td>1.0</td>\n",
       "      <td>2000</td>\n",
       "      <td>-17.7</td>\n",
       "      <td>0.0</td>\n",
       "      <td>0.0</td>\n",
       "      <td>0.0</td>\n",
       "      <td>Winter</td>\n",
       "      <td>No Holiday</td>\n",
       "      <td>Yes</td>\n",
       "      <td>12</td>\n",
       "      <td>1</td>\n",
       "      <td>2017</td>\n",
       "      <td>Thursday</td>\n",
       "    </tr>\n",
       "  </tbody>\n",
       "</table>\n",
       "</div>"
      ],
      "text/plain": [
       "   Rented Bike Count  Hour  Temperature(°C)  Humidity(%)  Wind speed (m/s)  \\\n",
       "0                254     0             -5.2           37               2.2   \n",
       "1                204     1             -5.5           38               0.8   \n",
       "2                173     2             -6.0           39               1.0   \n",
       "\n",
       "   Visibility (10m)  Dew point temperature(°C)  Solar Radiation (MJ/m2)  \\\n",
       "0              2000                      -17.6                      0.0   \n",
       "1              2000                      -17.6                      0.0   \n",
       "2              2000                      -17.7                      0.0   \n",
       "\n",
       "   Rainfall(mm)  Snowfall (cm) Seasons     Holiday Functioning Day  Day  \\\n",
       "0           0.0            0.0  Winter  No Holiday             Yes   12   \n",
       "1           0.0            0.0  Winter  No Holiday             Yes   12   \n",
       "2           0.0            0.0  Winter  No Holiday             Yes   12   \n",
       "\n",
       "   Month  Year   Weekday  \n",
       "0      1  2017  Thursday  \n",
       "1      1  2017  Thursday  \n",
       "2      1  2017  Thursday  "
      ]
     },
     "execution_count": 195,
     "metadata": {},
     "output_type": "execute_result"
    }
   ],
   "source": [
    "# convert Date columns object --> datetime...\n",
    "df['Date'] = pd.to_datetime(df['Date'])\n",
    "df['Day'] = df['Date'].dt.day\n",
    "df['Month'] = df['Date'].dt.month\n",
    "df['Year'] = df['Date'].dt.year\n",
    "df['Weekday'] = df['Date'].dt.day_name()\n",
    "df.drop(columns=['Date'],inplace=True)\n",
    "df.head(3)"
   ]
  },
  {
   "cell_type": "code",
   "execution_count": 196,
   "metadata": {
    "colab": {
     "base_uri": "https://localhost:8080/"
    },
    "executionInfo": {
     "elapsed": 83,
     "status": "ok",
     "timestamp": 1717615257641,
     "user": {
      "displayName": "Sugam Raval",
      "userId": "16921025679813916176"
     },
     "user_tz": 420
    },
    "id": "-FmiCgpZQ0wV",
    "outputId": "bee6432a-ecb2-4618-e6f0-4c1bff3d76bb"
   },
   "outputs": [
    {
     "name": "stdout",
     "output_type": "stream",
     "text": [
      "<class 'pandas.core.frame.DataFrame'>\n",
      "RangeIndex: 8760 entries, 0 to 8759\n",
      "Data columns (total 17 columns):\n",
      " #   Column                     Non-Null Count  Dtype  \n",
      "---  ------                     --------------  -----  \n",
      " 0   Rented Bike Count          8760 non-null   int64  \n",
      " 1   Hour                       8760 non-null   int64  \n",
      " 2   Temperature(°C)            8760 non-null   float64\n",
      " 3   Humidity(%)                8760 non-null   int64  \n",
      " 4   Wind speed (m/s)           8760 non-null   float64\n",
      " 5   Visibility (10m)           8760 non-null   int64  \n",
      " 6   Dew point temperature(°C)  8760 non-null   float64\n",
      " 7   Solar Radiation (MJ/m2)    8760 non-null   float64\n",
      " 8   Rainfall(mm)               8760 non-null   float64\n",
      " 9   Snowfall (cm)              8760 non-null   float64\n",
      " 10  Seasons                    8760 non-null   object \n",
      " 11  Holiday                    8760 non-null   object \n",
      " 12  Functioning Day            8760 non-null   object \n",
      " 13  Day                        8760 non-null   int64  \n",
      " 14  Month                      8760 non-null   int64  \n",
      " 15  Year                       8760 non-null   int64  \n",
      " 16  Weekday                    8760 non-null   object \n",
      "dtypes: float64(6), int64(7), object(4)\n",
      "memory usage: 1.1+ MB\n"
     ]
    }
   ],
   "source": [
    "df.info()"
   ]
  },
  {
   "cell_type": "code",
   "execution_count": 197,
   "metadata": {
    "colab": {
     "base_uri": "https://localhost:8080/"
    },
    "executionInfo": {
     "elapsed": 82,
     "status": "ok",
     "timestamp": 1717615257642,
     "user": {
      "displayName": "Sugam Raval",
      "userId": "16921025679813916176"
     },
     "user_tz": 420
    },
    "id": "4qWIOP3PUuot",
    "outputId": "58cc3dc0-a4bf-494e-daf4-897e6f063804"
   },
   "outputs": [
    {
     "name": "stderr",
     "output_type": "stream",
     "text": [
      "C:\\Users\\DELL\\AppData\\Local\\Temp\\ipykernel_11668\\1136184216.py:3: UserWarning: Parsing dates in DD/MM/YYYY format when dayfirst=False (the default) was specified. This may lead to inconsistently parsed dates! Specify a format to ensure consistent parsing.\n",
      "  parsed_dates = pd.to_datetime(date_strings)\n"
     ]
    },
    {
     "data": {
      "text/plain": [
       "DatetimeIndex(['2017-12-13', '2017-12-13', '2017-12-13'], dtype='datetime64[ns]', freq=None)"
      ]
     },
     "execution_count": 197,
     "metadata": {},
     "output_type": "execute_result"
    }
   ],
   "source": [
    "# explanation of conversion\n",
    "date_strings = [\"13/12/2017\", \"12/13/2017\", \"2017-12-13\"]\n",
    "parsed_dates = pd.to_datetime(date_strings)\n",
    "parsed_dates"
   ]
  },
  {
   "cell_type": "markdown",
   "metadata": {
    "id": "jAJd0NO5WxPj"
   },
   "source": [
    "# Part-2"
   ]
  },
  {
   "cell_type": "code",
   "execution_count": 198,
   "metadata": {
    "executionInfo": {
     "elapsed": 82,
     "status": "ok",
     "timestamp": 1717615257643,
     "user": {
      "displayName": "Sugam Raval",
      "userId": "16921025679813916176"
     },
     "user_tz": 420
    },
    "id": "HIYCEL8AaCrV"
   },
   "outputs": [],
   "source": [
    "# sns.pairplot(df)\n",
    "# plt.show()"
   ]
  },
  {
   "cell_type": "code",
   "execution_count": 199,
   "metadata": {
    "executionInfo": {
     "elapsed": 81,
     "status": "ok",
     "timestamp": 1717615257643,
     "user": {
      "displayName": "Sugam Raval",
      "userId": "16921025679813916176"
     },
     "user_tz": 420
    },
    "id": "1syb6b2UaFRE"
   },
   "outputs": [],
   "source": [
    "# Find the Insight from pair plot between Bike count and another feature.\n",
    "# 1) with Year : Demand is incerases in 2018 compare to 2017.\n",
    "# 2) Month : Demand is increase inbetween the year.\n",
    "# 3) Day : No More Insight found\n",
    "# 4) Snowfall : 0 snowfall --> More bike demand ...\n",
    "# 5) Rainfall : 0 rainfall --> More bike demand ...\n",
    "# 6) Rainfall & snowfall have same relationship so, we take only 1 from these 2.\n",
    "# 7) SolarRadiation : low solar intention --> More bike Demand\n",
    "# 8) Dew Point : dew > 0 --> Bike demand is increase.\n",
    "# 9) Visibility: No proper relationship found\n",
    "# 10) Wind Speed : low wind speed --> More bike Demand\n",
    "# 11) Humidity : Average Humidity --> More Bike Demand\n",
    "# 12) Temperature : with average temp. --> More bike Deamnd\n",
    "# 13) Houre : At Morning 6-7 and at evening at 6-7 --> More bike Demand\n",
    "# 14) You can find the more insight from other columns....."
   ]
  },
  {
   "cell_type": "markdown",
   "metadata": {
    "id": "3DCFdymtdh6G"
   },
   "source": [
    "# Part - 3 --> EDA"
   ]
  },
  {
   "cell_type": "code",
   "execution_count": 200,
   "metadata": {
    "colab": {
     "base_uri": "https://localhost:8080/",
     "height": 0
    },
    "executionInfo": {
     "elapsed": 82,
     "status": "ok",
     "timestamp": 1717615257644,
     "user": {
      "displayName": "Sugam Raval",
      "userId": "16921025679813916176"
     },
     "user_tz": 420
    },
    "id": "-rWKfGN9m0_5",
    "outputId": "d7910b8a-9115-4a42-dcd1-3ba68d2b24ee"
   },
   "outputs": [
    {
     "data": {
      "text/html": [
       "<div>\n",
       "<style scoped>\n",
       "    .dataframe tbody tr th:only-of-type {\n",
       "        vertical-align: middle;\n",
       "    }\n",
       "\n",
       "    .dataframe tbody tr th {\n",
       "        vertical-align: top;\n",
       "    }\n",
       "\n",
       "    .dataframe thead th {\n",
       "        text-align: right;\n",
       "    }\n",
       "</style>\n",
       "<table border=\"1\" class=\"dataframe\">\n",
       "  <thead>\n",
       "    <tr style=\"text-align: right;\">\n",
       "      <th></th>\n",
       "      <th>Rented Bike Count</th>\n",
       "      <th>Hour</th>\n",
       "      <th>Temperature(°C)</th>\n",
       "      <th>Humidity(%)</th>\n",
       "      <th>Wind speed (m/s)</th>\n",
       "      <th>Visibility (10m)</th>\n",
       "      <th>Dew point temperature(°C)</th>\n",
       "      <th>Solar Radiation (MJ/m2)</th>\n",
       "      <th>Rainfall(mm)</th>\n",
       "      <th>Snowfall (cm)</th>\n",
       "      <th>Seasons</th>\n",
       "      <th>Holiday</th>\n",
       "      <th>Functioning Day</th>\n",
       "      <th>Day</th>\n",
       "      <th>Month</th>\n",
       "      <th>Year</th>\n",
       "      <th>Weekday</th>\n",
       "    </tr>\n",
       "  </thead>\n",
       "  <tbody>\n",
       "    <tr>\n",
       "      <th>0</th>\n",
       "      <td>254</td>\n",
       "      <td>0</td>\n",
       "      <td>-5.2</td>\n",
       "      <td>37</td>\n",
       "      <td>2.2</td>\n",
       "      <td>2000</td>\n",
       "      <td>-17.6</td>\n",
       "      <td>0.0</td>\n",
       "      <td>0.0</td>\n",
       "      <td>0.0</td>\n",
       "      <td>Winter</td>\n",
       "      <td>No Holiday</td>\n",
       "      <td>Yes</td>\n",
       "      <td>12</td>\n",
       "      <td>1</td>\n",
       "      <td>2017</td>\n",
       "      <td>Thursday</td>\n",
       "    </tr>\n",
       "  </tbody>\n",
       "</table>\n",
       "</div>"
      ],
      "text/plain": [
       "   Rented Bike Count  Hour  Temperature(°C)  Humidity(%)  Wind speed (m/s)  \\\n",
       "0                254     0             -5.2           37               2.2   \n",
       "\n",
       "   Visibility (10m)  Dew point temperature(°C)  Solar Radiation (MJ/m2)  \\\n",
       "0              2000                      -17.6                      0.0   \n",
       "\n",
       "   Rainfall(mm)  Snowfall (cm) Seasons     Holiday Functioning Day  Day  \\\n",
       "0           0.0            0.0  Winter  No Holiday             Yes   12   \n",
       "\n",
       "   Month  Year   Weekday  \n",
       "0      1  2017  Thursday  "
      ]
     },
     "execution_count": 200,
     "metadata": {},
     "output_type": "execute_result"
    }
   ],
   "source": [
    "df.head(1)"
   ]
  },
  {
   "cell_type": "code",
   "execution_count": 201,
   "metadata": {
    "colab": {
     "base_uri": "https://localhost:8080/",
     "height": 0
    },
    "executionInfo": {
     "elapsed": 601,
     "status": "ok",
     "timestamp": 1717615258165,
     "user": {
      "displayName": "Sugam Raval",
      "userId": "16921025679813916176"
     },
     "user_tz": 420
    },
    "id": "39Glkcrxdlz2",
    "outputId": "4c4b9d51-0d7b-40b9-b298-f201cf88feb9"
   },
   "outputs": [
    {
     "data": {
      "text/plain": [
       "<Axes: xlabel='Month'>"
      ]
     },
     "execution_count": 201,
     "metadata": {},
     "output_type": "execute_result"
    },
    {
     "data": {
      "text/plain": [
       "<Figure size 400x200 with 0 Axes>"
      ]
     },
     "metadata": {},
     "output_type": "display_data"
    },
    {
     "data": {
      "image/png": "[encoded data removed]",
      "text/plain": [
       "<Figure size 640x480 with 1 Axes>"
      ]
     },
     "metadata": {},
     "output_type": "display_data"
    }
   ],
   "source": [
    "# with Month\n",
    "plt.figure(figsize=(4,2))\n",
    "(df.groupby('Month')['Rented Bike Count'].sum().reset_index()).plot(kind='bar',x= 'Month',y='Rented Bike Count')"
   ]
  },
  {
   "cell_type": "code",
   "execution_count": 202,
   "metadata": {
    "colab": {
     "base_uri": "https://localhost:8080/",
     "height": 0
    },
    "executionInfo": {
     "elapsed": 778,
     "status": "ok",
     "timestamp": 1717615258925,
     "user": {
      "displayName": "Sugam Raval",
      "userId": "16921025679813916176"
     },
     "user_tz": 420
    },
    "id": "s-ObLb7HnAQD",
    "outputId": "c690f8be-d30c-4063-c2d0-768743022a56"
   },
   "outputs": [
    {
     "data": {
      "text/plain": [
       "<Axes: xlabel='Day'>"
      ]
     },
     "execution_count": 202,
     "metadata": {},
     "output_type": "execute_result"
    },
    {
     "data": {
      "text/plain": [
       "<Figure size 400x200 with 0 Axes>"
      ]
     },
     "metadata": {},
     "output_type": "display_data"
    },
    {
     "data": {
      "image/png": "[encoded data removed]",
      "text/plain": [
       "<Figure size 640x480 with 1 Axes>"
      ]
     },
     "metadata": {},
     "output_type": "display_data"
    }
   ],
   "source": [
    "# with Day\n",
    "plt.figure(figsize=(4,2))\n",
    "(df.groupby('Day')['Rented Bike Count'].sum().reset_index()).plot(kind='bar',x= 'Day',y='Rented Bike Count')"
   ]
  },
  {
   "cell_type": "code",
   "execution_count": 203,
   "metadata": {
    "colab": {
     "base_uri": "https://localhost:8080/",
     "height": 0
    },
    "executionInfo": {
     "elapsed": 759,
     "status": "ok",
     "timestamp": 1717615259657,
     "user": {
      "displayName": "Sugam Raval",
      "userId": "16921025679813916176"
     },
     "user_tz": 420
    },
    "id": "t4QflFZloHdb",
    "outputId": "baadab5a-3040-465d-9053-c10eda279a22"
   },
   "outputs": [
    {
     "data": {
      "text/plain": [
       "<Axes: xlabel='Weekday'>"
      ]
     },
     "execution_count": 203,
     "metadata": {},
     "output_type": "execute_result"
    },
    {
     "data": {
      "text/plain": [
       "<Figure size 400x200 with 0 Axes>"
      ]
     },
     "metadata": {},
     "output_type": "display_data"
    },
    {
     "data": {
      "image/png": "[encoded data removed]",
      "text/plain": [
       "<Figure size 640x480 with 1 Axes>"
      ]
     },
     "metadata": {},
     "output_type": "display_data"
    }
   ],
   "source": [
    "# with Weekday\n",
    "plt.figure(figsize=(4,2))\n",
    "(df.groupby('Weekday')['Rented Bike Count'].sum().reset_index()).plot(kind='bar',x= 'Weekday',y='Rented Bike Count')"
   ]
  },
  {
   "cell_type": "code",
   "execution_count": 204,
   "metadata": {
    "colab": {
     "base_uri": "https://localhost:8080/",
     "height": 0
    },
    "executionInfo": {
     "elapsed": 1147,
     "status": "ok",
     "timestamp": 1717615260770,
     "user": {
      "displayName": "Sugam Raval",
      "userId": "16921025679813916176"
     },
     "user_tz": 420
    },
    "id": "Dhkq-BBJoZWB",
    "outputId": "525b116c-bbf2-4d54-8b41-dd5995620682"
   },
   "outputs": [
    {
     "data": {
      "text/plain": [
       "<Axes: xlabel='Hour'>"
      ]
     },
     "execution_count": 204,
     "metadata": {},
     "output_type": "execute_result"
    },
    {
     "data": {
      "text/plain": [
       "<Figure size 400x200 with 0 Axes>"
      ]
     },
     "metadata": {},
     "output_type": "display_data"
    },
    {
     "data": {
      "image/png": "[encoded data removed]",
      "text/plain": [
       "<Figure size 640x480 with 1 Axes>"
      ]
     },
     "metadata": {},
     "output_type": "display_data"
    }
   ],
   "source": [
    "# with Hour\n",
    "plt.figure(figsize=(4,2))\n",
    "(df.groupby('Hour')['Rented Bike Count'].sum().reset_index()).plot(kind='bar',x= 'Hour',y='Rented Bike Count')"
   ]
  },
  {
   "cell_type": "code",
   "execution_count": 205,
   "metadata": {
    "colab": {
     "base_uri": "https://localhost:8080/",
     "height": 0
    },
    "executionInfo": {
     "elapsed": 43,
     "status": "ok",
     "timestamp": 1717615260770,
     "user": {
      "displayName": "Sugam Raval",
      "userId": "16921025679813916176"
     },
     "user_tz": 420
    },
    "id": "eWBSAPgnohzl",
    "outputId": "70899ce9-7706-4c28-d166-5b53edce431a"
   },
   "outputs": [
    {
     "name": "stderr",
     "output_type": "stream",
     "text": [
      "C:\\Users\\DELL\\AppData\\Local\\Temp\\ipykernel_11668\\1990036590.py:2: FutureWarning: \n",
      "\n",
      "Passing `palette` without assigning `hue` is deprecated and will be removed in v0.14.0. Assign the `x` variable to `hue` and set `legend=False` for the same effect.\n",
      "\n",
      "  sns.barplot(data=df, x='Holiday',y='Rented Bike Count',palette=sns.color_palette('pastel'))\n",
      "C:\\Users\\DELL\\AppData\\Local\\Temp\\ipykernel_11668\\1990036590.py:2: UserWarning: The palette list has more values (10) than needed (2), which may not be intended.\n",
      "  sns.barplot(data=df, x='Holiday',y='Rented Bike Count',palette=sns.color_palette('pastel'))\n"
     ]
    },
    {
     "data": {
      "image/png": "[encoded data removed]",
      "text/plain": [
       "<Figure size 640x480 with 1 Axes>"
      ]
     },
     "metadata": {},
     "output_type": "display_data"
    }
   ],
   "source": [
    "# with Holiday\n",
    "sns.barplot(data=df, x='Holiday',y='Rented Bike Count',palette=sns.color_palette('pastel'))\n",
    "plt.show()"
   ]
  },
  {
   "cell_type": "code",
   "execution_count": 206,
   "metadata": {
    "colab": {
     "base_uri": "https://localhost:8080/",
     "height": 0
    },
    "executionInfo": {
     "elapsed": 851,
     "status": "ok",
     "timestamp": 1717615261586,
     "user": {
      "displayName": "Sugam Raval",
      "userId": "16921025679813916176"
     },
     "user_tz": 420
    },
    "id": "xHKVJ8O0ouTm",
    "outputId": "1e7867f5-31db-4d68-fa46-e9a7278fde1a",
    "scrolled": true
   },
   "outputs": [
    {
     "name": "stderr",
     "output_type": "stream",
     "text": [
      "C:\\Users\\DELL\\AppData\\Local\\Temp\\ipykernel_11668\\3353695066.py:2: FutureWarning: \n",
      "\n",
      "Passing `palette` without assigning `hue` is deprecated and will be removed in v0.14.0. Assign the `x` variable to `hue` and set `legend=False` for the same effect.\n",
      "\n",
      "  sns.barplot(data=df, x='Seasons',y='Rented Bike Count',palette=sns.color_palette('pastel'))\n",
      "C:\\Users\\DELL\\AppData\\Local\\Temp\\ipykernel_11668\\3353695066.py:2: UserWarning: The palette list has more values (10) than needed (4), which may not be intended.\n",
      "  sns.barplot(data=df, x='Seasons',y='Rented Bike Count',palette=sns.color_palette('pastel'))\n"
     ]
    },
    {
     "data": {
      "image/png": "[encoded data removed]",
      "text/plain": [
       "<Figure size 640x480 with 1 Axes>"
      ]
     },
     "metadata": {},
     "output_type": "display_data"
    }
   ],
   "source": [
    "# with Seasons\n",
    "sns.barplot(data=df, x='Seasons',y='Rented Bike Count',palette=sns.color_palette('pastel'))\n",
    "plt.show()"
   ]
  },
  {
   "cell_type": "code",
   "execution_count": 207,
   "metadata": {
    "colab": {
     "base_uri": "https://localhost:8080/",
     "height": 0
    },
    "executionInfo": {
     "elapsed": 3307,
     "status": "ok",
     "timestamp": 1717615264821,
     "user": {
      "displayName": "Sugam Raval",
      "userId": "16921025679813916176"
     },
     "user_tz": 420
    },
    "id": "qqcC9y71o--n",
    "outputId": "8f5f794b-fc9b-4b47-9082-e2382b3eae5a",
    "scrolled": true
   },
   "outputs": [
    {
     "name": "stderr",
     "output_type": "stream",
     "text": [
      "C:\\Users\\DELL\\AppData\\Local\\Temp\\ipykernel_11668\\378303428.py:3: FutureWarning: \n",
      "\n",
      "Passing `palette` without assigning `hue` is deprecated and will be removed in v0.14.0. Assign the `x` variable to `hue` and set `legend=False` for the same effect.\n",
      "\n",
      "  sns.barplot(data=df, x='Rainfall(mm)',y='Rented Bike Count',palette=sns.color_palette('pastel'))\n",
      "C:\\Users\\DELL\\AppData\\Local\\Temp\\ipykernel_11668\\378303428.py:3: UserWarning: \n",
      "The palette list has fewer values (10) than needed (61) and will cycle, which may produce an uninterpretable plot.\n",
      "  sns.barplot(data=df, x='Rainfall(mm)',y='Rented Bike Count',palette=sns.color_palette('pastel'))\n"
     ]
    },
    {
     "data": {
      "image/png": "[encoded data removed]",
      "text/plain": [
       "<Figure size 4000x1000 with 1 Axes>"
      ]
     },
     "metadata": {},
     "output_type": "display_data"
    }
   ],
   "source": [
    "# with Rainfall(mm)\n",
    "plt.figure(figsize=(40,10))\n",
    "sns.barplot(data=df, x='Rainfall(mm)',y='Rented Bike Count',palette=sns.color_palette('pastel'))\n",
    "plt.show()"
   ]
  },
  {
   "cell_type": "code",
   "execution_count": 208,
   "metadata": {
    "colab": {
     "base_uri": "https://localhost:8080/",
     "height": 0
    },
    "executionInfo": {
     "elapsed": 1631,
     "status": "ok",
     "timestamp": 1717615266145,
     "user": {
      "displayName": "Sugam Raval",
      "userId": "16921025679813916176"
     },
     "user_tz": 420
    },
    "id": "wL_rCZG9pTN2",
    "outputId": "20ffb05d-e6b9-4612-97ac-1e4251440a77"
   },
   "outputs": [
    {
     "data": {
      "image/png": "[encoded data removed]",
      "text/plain": [
       "<Figure size 800x400 with 2 Axes>"
      ]
     },
     "metadata": {},
     "output_type": "display_data"
    }
   ],
   "source": [
    "plt.figure(figsize=(8,4))\n",
    "plt.subplot(1,2,1)\n",
    "sns.histplot(df['Rented Bike Count']) #--> Right skew data\n",
    "plt.title('Right Skewed Data')\n",
    "\n",
    "plt.subplot(1,2,2)\n",
    "sns.histplot(np.sqrt(df['Rented Bike Count']))\n",
    "plt.title('Normal Distribute Data')\n",
    "plt.show()"
   ]
  },
  {
   "cell_type": "markdown",
   "metadata": {
    "id": "zLWaoGUbrOZ-"
   },
   "source": [
    "# Part -4 --> Skewness"
   ]
  },
  {
   "cell_type": "code",
   "execution_count": 209,
   "metadata": {
    "colab": {
     "base_uri": "https://localhost:8080/"
    },
    "executionInfo": {
     "elapsed": 54,
     "status": "ok",
     "timestamp": 1717615266146,
     "user": {
      "displayName": "Sugam Raval",
      "userId": "16921025679813916176"
     },
     "user_tz": 420
    },
    "id": "2bIin_DSsOyv",
    "outputId": "26359824-847b-4672-a6df-069f006ba591"
   },
   "outputs": [
    {
     "name": "stdout",
     "output_type": "stream",
     "text": [
      "<class 'pandas.core.frame.DataFrame'>\n",
      "RangeIndex: 8760 entries, 0 to 8759\n",
      "Data columns (total 17 columns):\n",
      " #   Column                     Non-Null Count  Dtype  \n",
      "---  ------                     --------------  -----  \n",
      " 0   Rented Bike Count          8760 non-null   int64  \n",
      " 1   Hour                       8760 non-null   int64  \n",
      " 2   Temperature(°C)            8760 non-null   float64\n",
      " 3   Humidity(%)                8760 non-null   int64  \n",
      " 4   Wind speed (m/s)           8760 non-null   float64\n",
      " 5   Visibility (10m)           8760 non-null   int64  \n",
      " 6   Dew point temperature(°C)  8760 non-null   float64\n",
      " 7   Solar Radiation (MJ/m2)    8760 non-null   float64\n",
      " 8   Rainfall(mm)               8760 non-null   float64\n",
      " 9   Snowfall (cm)              8760 non-null   float64\n",
      " 10  Seasons                    8760 non-null   object \n",
      " 11  Holiday                    8760 non-null   object \n",
      " 12  Functioning Day            8760 non-null   object \n",
      " 13  Day                        8760 non-null   int64  \n",
      " 14  Month                      8760 non-null   int64  \n",
      " 15  Year                       8760 non-null   int64  \n",
      " 16  Weekday                    8760 non-null   object \n",
      "dtypes: float64(6), int64(7), object(4)\n",
      "memory usage: 1.1+ MB\n"
     ]
    }
   ],
   "source": [
    "df.info()"
   ]
  },
  {
   "cell_type": "code",
   "execution_count": 210,
   "metadata": {
    "colab": {
     "base_uri": "https://localhost:8080/"
    },
    "executionInfo": {
     "elapsed": 49,
     "status": "ok",
     "timestamp": 1717615266146,
     "user": {
      "displayName": "Sugam Raval",
      "userId": "16921025679813916176"
     },
     "user_tz": 420
    },
    "id": "kleercNqrS-w",
    "outputId": "10385d01-629e-464f-8a12-ff9f6504abc8"
   },
   "outputs": [
    {
     "data": {
      "text/plain": [
       "Year                         -2.978262\n",
       "Visibility (10m)             -0.701786\n",
       "Dew point temperature(°C)    -0.367298\n",
       "Temperature(°C)              -0.198326\n",
       "Month                        -0.010458\n",
       "Hour                          0.000000\n",
       "Day                           0.007522\n",
       "Humidity(%)                   0.059579\n",
       "Wind speed (m/s)              0.890955\n",
       "Rented Bike Count             1.153428\n",
       "Solar Radiation (MJ/m2)       1.504040\n",
       "Snowfall (cm)                 8.440801\n",
       "Rainfall(mm)                 14.533232\n",
       "dtype: float64"
      ]
     },
     "execution_count": 210,
     "metadata": {},
     "output_type": "execute_result"
    }
   ],
   "source": [
    "# check the skewness of all numerical data.\n",
    "df.select_dtypes(include=[int,float]).skew().sort_values(ascending=True)\n",
    "# skewness < 0 --> Left skewed\n",
    "# skewness = 0 --> No skewness\n",
    "# skewness > 0 --> Right skewed"
   ]
  },
  {
   "cell_type": "code",
   "execution_count": 211,
   "metadata": {
    "executionInfo": {
     "elapsed": 776,
     "status": "ok",
     "timestamp": 1717615266876,
     "user": {
      "displayName": "Sugam Raval",
      "userId": "16921025679813916176"
     },
     "user_tz": 420
    },
    "id": "dx_wUVAr1FTV"
   },
   "outputs": [],
   "source": [
    "# we got Outliers in\n",
    "# 1) windspeed\n",
    "# 2) snowfall\n",
    "# 3) rainfall\n",
    "# But at this time we don't remove outlier, it can be help full for model, we will remove it\n",
    "# if our model not provide good accuracy by different techniques."
   ]
  },
  {
   "cell_type": "markdown",
   "metadata": {
    "id": "9pSPtNhVw6cQ"
   },
   "source": [
    "# Part - 5 --> Colinearity and Multicolinearity (Remove)\n",
    "\n"
   ]
  },
  {
   "cell_type": "code",
   "execution_count": 212,
   "metadata": {
    "colab": {
     "base_uri": "https://localhost:8080/",
     "height": 0
    },
    "executionInfo": {
     "elapsed": 3962,
     "status": "ok",
     "timestamp": 1717615270822,
     "user": {
      "displayName": "Sugam Raval",
      "userId": "16921025679813916176"
     },
     "user_tz": 420
    },
    "id": "8YD_r-UYzxIq",
    "outputId": "304335a6-559b-43c0-df58-996380319e15"
   },
   "outputs": [
    {
     "data": {
      "image/png": "[encoded data removed]",
      "text/plain": [
       "<Figure size 1500x600 with 2 Axes>"
      ]
     },
     "metadata": {},
     "output_type": "display_data"
    }
   ],
   "source": [
    "plt.figure(figsize=(15,6))\n",
    "sns.heatmap(df.select_dtypes(include=[int,float]).corr(),cmap=\"coolwarm\",annot=True,linewidth=0.2)\n",
    "plt.show()\n",
    "# observe Rented Bike Count with another columns and note down the relation."
   ]
  },
  {
   "cell_type": "code",
   "execution_count": 213,
   "metadata": {
    "executionInfo": {
     "elapsed": 78,
     "status": "ok",
     "timestamp": 1717615270822,
     "user": {
      "displayName": "Sugam Raval",
      "userId": "16921025679813916176"
     },
     "user_tz": 420
    },
    "id": "vC5ZJbC60-U3"
   },
   "outputs": [],
   "source": [
    "# Colinearity (Rental Bike Count --> to rest columns)\n",
    "#----------------------------------------------------------\n",
    "# reuslt / Insights\n",
    "# Very less Relation : Day, Month, Year, Rented Bike Count (Not considerable)\n",
    "# rainfall and snowfall have same so that we can use only one of them.\n",
    "# High : Hour, Temp, Dew Temp.,\n",
    "\n",
    "# Multicolinearity (all columns --> to remaining)\n",
    "#---------------------------------------------------------\n",
    "# Dew point temp. and Temperature have high relatinoship so that we can only choose one of them.\n",
    "# but temperature > Dew temp. with respect to Rental Bike Count so we remove Dew temp"
   ]
  },
  {
   "cell_type": "code",
   "execution_count": 214,
   "metadata": {
    "executionInfo": {
     "elapsed": 67,
     "status": "ok",
     "timestamp": 1717615270822,
     "user": {
      "displayName": "Sugam Raval",
      "userId": "16921025679813916176"
     },
     "user_tz": 420
    },
    "id": "ujMlX--mr5Zm"
   },
   "outputs": [],
   "source": [
    "# check with the proper method with statistical....\n",
    "\n",
    "# Variance Inflation Factor (VIF) is a measure used in statistics and econometrics to detect multicollinearity in a set of multiple regression variables.\n",
    "# Multicollinearity occurs when two or more predictor variables in a regression model are highly correlated, meaning they provide redundant information about the response variable.\n",
    "# This redundancy can inflate the variances of the regression coefficients, making them unstable and difficult to interpret."
   ]
  },
  {
   "cell_type": "code",
   "execution_count": 215,
   "metadata": {
    "executionInfo": {
     "elapsed": 65,
     "status": "ok",
     "timestamp": 1717615270822,
     "user": {
      "displayName": "Sugam Raval",
      "userId": "16921025679813916176"
     },
     "user_tz": 420
    },
    "id": "3gOJTLjL4reF"
   },
   "outputs": [],
   "source": [
    "# A VIF of 1 indicates no correlation between the\n",
    "\n",
    "# A VIF of 1 indicates no correlation between i-th predictor and the other predictors, suggesting no multicollinearity.\n",
    "# A VIF between 1 and 5 indicates moderate multicollinearity, which is usually not problematic.\n",
    "# A VIF greater than 5 suggests high multicollinearity, and values above 10 indicate severe multicollinearity, which can be problematic."
   ]
  },
  {
   "cell_type": "code",
   "execution_count": 216,
   "metadata": {
    "executionInfo": {
     "elapsed": 65,
     "status": "ok",
     "timestamp": 1717615270823,
     "user": {
      "displayName": "Sugam Raval",
      "userId": "16921025679813916176"
     },
     "user_tz": 420
    },
    "id": "s-J5kFfy5Qjq"
   },
   "outputs": [],
   "source": [
    "def get_vif(df):\n",
    "  vif = pd.DataFrame()\n",
    "  vif['Features']  = df.columns\n",
    "  vif['VIF'] = [variance_inflation_factor(df.values,i) for i in range(df.shape[1])]\n",
    "\n",
    "  return vif"
   ]
  },
  {
   "cell_type": "code",
   "execution_count": 217,
   "metadata": {
    "colab": {
     "base_uri": "https://localhost:8080/",
     "height": 0
    },
    "executionInfo": {
     "elapsed": 1716,
     "status": "ok",
     "timestamp": 1717615272475,
     "user": {
      "displayName": "Sugam Raval",
      "userId": "16921025679813916176"
     },
     "user_tz": 420
    },
    "id": "li8X6gxG6s5R",
    "outputId": "c4b77068-6a70-456a-fd08-74c55c92cb8b"
   },
   "outputs": [
    {
     "data": {
      "text/html": [
       "<div>\n",
       "<style scoped>\n",
       "    .dataframe tbody tr th:only-of-type {\n",
       "        vertical-align: middle;\n",
       "    }\n",
       "\n",
       "    .dataframe tbody tr th {\n",
       "        vertical-align: top;\n",
       "    }\n",
       "\n",
       "    .dataframe thead th {\n",
       "        text-align: right;\n",
       "    }\n",
       "</style>\n",
       "<table border=\"1\" class=\"dataframe\">\n",
       "  <thead>\n",
       "    <tr style=\"text-align: right;\">\n",
       "      <th></th>\n",
       "      <th>Features</th>\n",
       "      <th>VIF</th>\n",
       "    </tr>\n",
       "  </thead>\n",
       "  <tbody>\n",
       "    <tr>\n",
       "      <th>0</th>\n",
       "      <td>Hour</td>\n",
       "      <td>4.418242</td>\n",
       "    </tr>\n",
       "    <tr>\n",
       "      <th>1</th>\n",
       "      <td>Temperature(°C)</td>\n",
       "      <td>33.385256</td>\n",
       "    </tr>\n",
       "    <tr>\n",
       "      <th>2</th>\n",
       "      <td>Humidity(%)</td>\n",
       "      <td>5.371996</td>\n",
       "    </tr>\n",
       "    <tr>\n",
       "      <th>3</th>\n",
       "      <td>Wind speed (m/s)</td>\n",
       "      <td>4.805364</td>\n",
       "    </tr>\n",
       "    <tr>\n",
       "      <th>4</th>\n",
       "      <td>Visibility (10m)</td>\n",
       "      <td>9.085977</td>\n",
       "    </tr>\n",
       "    <tr>\n",
       "      <th>5</th>\n",
       "      <td>Dew point temperature(°C)</td>\n",
       "      <td>17.126199</td>\n",
       "    </tr>\n",
       "    <tr>\n",
       "      <th>6</th>\n",
       "      <td>Solar Radiation (MJ/m2)</td>\n",
       "      <td>2.881590</td>\n",
       "    </tr>\n",
       "    <tr>\n",
       "      <th>7</th>\n",
       "      <td>Rainfall(mm)</td>\n",
       "      <td>1.081567</td>\n",
       "    </tr>\n",
       "    <tr>\n",
       "      <th>8</th>\n",
       "      <td>Snowfall (cm)</td>\n",
       "      <td>1.120833</td>\n",
       "    </tr>\n",
       "  </tbody>\n",
       "</table>\n",
       "</div>"
      ],
      "text/plain": [
       "                    Features        VIF\n",
       "0                       Hour   4.418242\n",
       "1            Temperature(°C)  33.385256\n",
       "2                Humidity(%)   5.371996\n",
       "3           Wind speed (m/s)   4.805364\n",
       "4           Visibility (10m)   9.085977\n",
       "5  Dew point temperature(°C)  17.126199\n",
       "6    Solar Radiation (MJ/m2)   2.881590\n",
       "7               Rainfall(mm)   1.081567\n",
       "8              Snowfall (cm)   1.120833"
      ]
     },
     "execution_count": 217,
     "metadata": {},
     "output_type": "execute_result"
    }
   ],
   "source": [
    "not_for_vif = ['Rented Bike Count','Day','Month','Year']\n",
    "x = [i for i in df.columns if not i in not_for_vif ]\n",
    "temp_df = df[x].select_dtypes(include=[int,float])\n",
    "get_vif(temp_df)\n",
    "# here we got high with Temperature and Dew point temp.--> so need to remove both\n",
    "# we checked above no need to remove both , Temp. is more correlate so just remove Dew Point\n",
    "# check again......"
   ]
  },
  {
   "cell_type": "code",
   "execution_count": 218,
   "metadata": {
    "colab": {
     "base_uri": "https://localhost:8080/",
     "height": 0
    },
    "executionInfo": {
     "elapsed": 121,
     "status": "ok",
     "timestamp": 1717615272476,
     "user": {
      "displayName": "Sugam Raval",
      "userId": "16921025679813916176"
     },
     "user_tz": 420
    },
    "id": "sL_FUhM470gs",
    "outputId": "6553604e-6703-458c-b9d5-519befaa2be1"
   },
   "outputs": [
    {
     "data": {
      "text/html": [
       "<div>\n",
       "<style scoped>\n",
       "    .dataframe tbody tr th:only-of-type {\n",
       "        vertical-align: middle;\n",
       "    }\n",
       "\n",
       "    .dataframe tbody tr th {\n",
       "        vertical-align: top;\n",
       "    }\n",
       "\n",
       "    .dataframe thead th {\n",
       "        text-align: right;\n",
       "    }\n",
       "</style>\n",
       "<table border=\"1\" class=\"dataframe\">\n",
       "  <thead>\n",
       "    <tr style=\"text-align: right;\">\n",
       "      <th></th>\n",
       "      <th>Features</th>\n",
       "      <th>VIF</th>\n",
       "    </tr>\n",
       "  </thead>\n",
       "  <tbody>\n",
       "    <tr>\n",
       "      <th>0</th>\n",
       "      <td>Hour</td>\n",
       "      <td>3.921832</td>\n",
       "    </tr>\n",
       "    <tr>\n",
       "      <th>1</th>\n",
       "      <td>Temperature(°C)</td>\n",
       "      <td>3.228318</td>\n",
       "    </tr>\n",
       "    <tr>\n",
       "      <th>2</th>\n",
       "      <td>Humidity(%)</td>\n",
       "      <td>4.868221</td>\n",
       "    </tr>\n",
       "    <tr>\n",
       "      <th>3</th>\n",
       "      <td>Wind speed (m/s)</td>\n",
       "      <td>4.608625</td>\n",
       "    </tr>\n",
       "    <tr>\n",
       "      <th>4</th>\n",
       "      <td>Visibility (10m)</td>\n",
       "      <td>4.710170</td>\n",
       "    </tr>\n",
       "    <tr>\n",
       "      <th>5</th>\n",
       "      <td>Solar Radiation (MJ/m2)</td>\n",
       "      <td>2.246791</td>\n",
       "    </tr>\n",
       "    <tr>\n",
       "      <th>6</th>\n",
       "      <td>Rainfall(mm)</td>\n",
       "      <td>1.079158</td>\n",
       "    </tr>\n",
       "    <tr>\n",
       "      <th>7</th>\n",
       "      <td>Snowfall (cm)</td>\n",
       "      <td>1.120579</td>\n",
       "    </tr>\n",
       "  </tbody>\n",
       "</table>\n",
       "</div>"
      ],
      "text/plain": [
       "                  Features       VIF\n",
       "0                     Hour  3.921832\n",
       "1          Temperature(°C)  3.228318\n",
       "2              Humidity(%)  4.868221\n",
       "3         Wind speed (m/s)  4.608625\n",
       "4         Visibility (10m)  4.710170\n",
       "5  Solar Radiation (MJ/m2)  2.246791\n",
       "6             Rainfall(mm)  1.079158\n",
       "7            Snowfall (cm)  1.120579"
      ]
     },
     "execution_count": 218,
     "metadata": {},
     "output_type": "execute_result"
    }
   ],
   "source": [
    "# check without dew point temperature\n",
    "x.remove('Dew point temperature(°C)')\n",
    "temp_df = df[x].select_dtypes(include=[int,float])\n",
    "get_vif(temp_df)\n",
    "# now here all are in average 1 to 5 range."
   ]
  },
  {
   "cell_type": "code",
   "execution_count": 219,
   "metadata": {
    "executionInfo": {
     "elapsed": 122,
     "status": "ok",
     "timestamp": 1717615272480,
     "user": {
      "displayName": "Sugam Raval",
      "userId": "16921025679813916176"
     },
     "user_tz": 420
    },
    "id": "D-SQ-KwM9voS"
   },
   "outputs": [],
   "source": [
    "# drop Dew point temperature(°C)\n",
    "df.drop(columns=['Dew point temperature(°C)'],inplace=True)"
   ]
  },
  {
   "cell_type": "markdown",
   "metadata": {
    "id": "lrVgUknN_Mrq"
   },
   "source": [
    "# Part - 6 --> Encoding (Object -> Numerical)"
   ]
  },
  {
   "cell_type": "code",
   "execution_count": 220,
   "metadata": {},
   "outputs": [
    {
     "data": {
      "text/html": [
       "<div>\n",
       "<style scoped>\n",
       "    .dataframe tbody tr th:only-of-type {\n",
       "        vertical-align: middle;\n",
       "    }\n",
       "\n",
       "    .dataframe tbody tr th {\n",
       "        vertical-align: top;\n",
       "    }\n",
       "\n",
       "    .dataframe thead th {\n",
       "        text-align: right;\n",
       "    }\n",
       "</style>\n",
       "<table border=\"1\" class=\"dataframe\">\n",
       "  <thead>\n",
       "    <tr style=\"text-align: right;\">\n",
       "      <th></th>\n",
       "      <th>Rented Bike Count</th>\n",
       "      <th>Hour</th>\n",
       "      <th>Temperature(°C)</th>\n",
       "      <th>Humidity(%)</th>\n",
       "      <th>Wind speed (m/s)</th>\n",
       "      <th>Visibility (10m)</th>\n",
       "      <th>Solar Radiation (MJ/m2)</th>\n",
       "      <th>Rainfall(mm)</th>\n",
       "      <th>Snowfall (cm)</th>\n",
       "      <th>Seasons</th>\n",
       "      <th>Holiday</th>\n",
       "      <th>Functioning Day</th>\n",
       "      <th>Day</th>\n",
       "      <th>Month</th>\n",
       "      <th>Year</th>\n",
       "      <th>Weekday</th>\n",
       "    </tr>\n",
       "  </thead>\n",
       "  <tbody>\n",
       "    <tr>\n",
       "      <th>0</th>\n",
       "      <td>254</td>\n",
       "      <td>0</td>\n",
       "      <td>-5.2</td>\n",
       "      <td>37</td>\n",
       "      <td>2.2</td>\n",
       "      <td>2000</td>\n",
       "      <td>0.0</td>\n",
       "      <td>0.0</td>\n",
       "      <td>0.0</td>\n",
       "      <td>Winter</td>\n",
       "      <td>No Holiday</td>\n",
       "      <td>Yes</td>\n",
       "      <td>12</td>\n",
       "      <td>1</td>\n",
       "      <td>2017</td>\n",
       "      <td>Thursday</td>\n",
       "    </tr>\n",
       "    <tr>\n",
       "      <th>1</th>\n",
       "      <td>204</td>\n",
       "      <td>1</td>\n",
       "      <td>-5.5</td>\n",
       "      <td>38</td>\n",
       "      <td>0.8</td>\n",
       "      <td>2000</td>\n",
       "      <td>0.0</td>\n",
       "      <td>0.0</td>\n",
       "      <td>0.0</td>\n",
       "      <td>Winter</td>\n",
       "      <td>No Holiday</td>\n",
       "      <td>Yes</td>\n",
       "      <td>12</td>\n",
       "      <td>1</td>\n",
       "      <td>2017</td>\n",
       "      <td>Thursday</td>\n",
       "    </tr>\n",
       "    <tr>\n",
       "      <th>2</th>\n",
       "      <td>173</td>\n",
       "      <td>2</td>\n",
       "      <td>-6.0</td>\n",
       "      <td>39</td>\n",
       "      <td>1.0</td>\n",
       "      <td>2000</td>\n",
       "      <td>0.0</td>\n",
       "      <td>0.0</td>\n",
       "      <td>0.0</td>\n",
       "      <td>Winter</td>\n",
       "      <td>No Holiday</td>\n",
       "      <td>Yes</td>\n",
       "      <td>12</td>\n",
       "      <td>1</td>\n",
       "      <td>2017</td>\n",
       "      <td>Thursday</td>\n",
       "    </tr>\n",
       "    <tr>\n",
       "      <th>3</th>\n",
       "      <td>107</td>\n",
       "      <td>3</td>\n",
       "      <td>-6.2</td>\n",
       "      <td>40</td>\n",
       "      <td>0.9</td>\n",
       "      <td>2000</td>\n",
       "      <td>0.0</td>\n",
       "      <td>0.0</td>\n",
       "      <td>0.0</td>\n",
       "      <td>Winter</td>\n",
       "      <td>No Holiday</td>\n",
       "      <td>Yes</td>\n",
       "      <td>12</td>\n",
       "      <td>1</td>\n",
       "      <td>2017</td>\n",
       "      <td>Thursday</td>\n",
       "    </tr>\n",
       "    <tr>\n",
       "      <th>4</th>\n",
       "      <td>78</td>\n",
       "      <td>4</td>\n",
       "      <td>-6.0</td>\n",
       "      <td>36</td>\n",
       "      <td>2.3</td>\n",
       "      <td>2000</td>\n",
       "      <td>0.0</td>\n",
       "      <td>0.0</td>\n",
       "      <td>0.0</td>\n",
       "      <td>Winter</td>\n",
       "      <td>No Holiday</td>\n",
       "      <td>Yes</td>\n",
       "      <td>12</td>\n",
       "      <td>1</td>\n",
       "      <td>2017</td>\n",
       "      <td>Thursday</td>\n",
       "    </tr>\n",
       "  </tbody>\n",
       "</table>\n",
       "</div>"
      ],
      "text/plain": [
       "   Rented Bike Count  Hour  Temperature(°C)  Humidity(%)  Wind speed (m/s)  \\\n",
       "0                254     0             -5.2           37               2.2   \n",
       "1                204     1             -5.5           38               0.8   \n",
       "2                173     2             -6.0           39               1.0   \n",
       "3                107     3             -6.2           40               0.9   \n",
       "4                 78     4             -6.0           36               2.3   \n",
       "\n",
       "   Visibility (10m)  Solar Radiation (MJ/m2)  Rainfall(mm)  Snowfall (cm)  \\\n",
       "0              2000                      0.0           0.0            0.0   \n",
       "1              2000                      0.0           0.0            0.0   \n",
       "2              2000                      0.0           0.0            0.0   \n",
       "3              2000                      0.0           0.0            0.0   \n",
       "4              2000                      0.0           0.0            0.0   \n",
       "\n",
       "  Seasons     Holiday Functioning Day  Day  Month  Year   Weekday  \n",
       "0  Winter  No Holiday             Yes   12      1  2017  Thursday  \n",
       "1  Winter  No Holiday             Yes   12      1  2017  Thursday  \n",
       "2  Winter  No Holiday             Yes   12      1  2017  Thursday  \n",
       "3  Winter  No Holiday             Yes   12      1  2017  Thursday  \n",
       "4  Winter  No Holiday             Yes   12      1  2017  Thursday  "
      ]
     },
     "execution_count": 220,
     "metadata": {},
     "output_type": "execute_result"
    }
   ],
   "source": [
    "df.head()"
   ]
  },
  {
   "cell_type": "code",
   "execution_count": 221,
   "metadata": {
    "colab": {
     "base_uri": "https://localhost:8080/"
    },
    "executionInfo": {
     "elapsed": 122,
     "status": "ok",
     "timestamp": 1717615272480,
     "user": {
      "displayName": "Sugam Raval",
      "userId": "16921025679813916176"
     },
     "user_tz": 420
    },
    "id": "1W2mUA9Q_PdY",
    "outputId": "79a12b00-adea-481a-dbaf-620cce357335"
   },
   "outputs": [
    {
     "name": "stdout",
     "output_type": "stream",
     "text": [
      "<class 'pandas.core.frame.DataFrame'>\n",
      "RangeIndex: 8760 entries, 0 to 8759\n",
      "Data columns (total 16 columns):\n",
      " #   Column                   Non-Null Count  Dtype  \n",
      "---  ------                   --------------  -----  \n",
      " 0   Rented Bike Count        8760 non-null   int64  \n",
      " 1   Hour                     8760 non-null   int64  \n",
      " 2   Temperature(°C)          8760 non-null   float64\n",
      " 3   Humidity(%)              8760 non-null   int64  \n",
      " 4   Wind speed (m/s)         8760 non-null   float64\n",
      " 5   Visibility (10m)         8760 non-null   int64  \n",
      " 6   Solar Radiation (MJ/m2)  8760 non-null   float64\n",
      " 7   Rainfall(mm)             8760 non-null   float64\n",
      " 8   Snowfall (cm)            8760 non-null   float64\n",
      " 9   Seasons                  8760 non-null   object \n",
      " 10  Holiday                  8760 non-null   object \n",
      " 11  Functioning Day          8760 non-null   object \n",
      " 12  Day                      8760 non-null   int64  \n",
      " 13  Month                    8760 non-null   int64  \n",
      " 14  Year                     8760 non-null   int64  \n",
      " 15  Weekday                  8760 non-null   object \n",
      "dtypes: float64(5), int64(7), object(4)\n",
      "memory usage: 1.1+ MB\n"
     ]
    }
   ],
   "source": [
    "df.info()"
   ]
  },
  {
   "cell_type": "code",
   "execution_count": 222,
   "metadata": {
    "executionInfo": {
     "elapsed": 119,
     "status": "ok",
     "timestamp": 1717615272480,
     "user": {
      "displayName": "Sugam Raval",
      "userId": "16921025679813916176"
     },
     "user_tz": 420
    },
    "id": "fBhN18FsNpxn"
   },
   "outputs": [],
   "source": [
    "# One Hot Encoding : Weekday, Seasons\n",
    "# Ordinal Encoding : Holiday, Functioning Day"
   ]
  },
  {
   "cell_type": "code",
   "execution_count": 223,
   "metadata": {},
   "outputs": [],
   "source": [
    "cat_feratures=[\"Seasons\",\"Holiday\",\"Functioning Day\", \"Weekday\"]"
   ]
  },
  {
   "cell_type": "code",
   "execution_count": 224,
   "metadata": {},
   "outputs": [
    {
     "data": {
      "text/plain": [
       "No Holiday    8328\n",
       "Holiday        432\n",
       "Name: Holiday, dtype: int64"
      ]
     },
     "execution_count": 224,
     "metadata": {},
     "output_type": "execute_result"
    }
   ],
   "source": [
    "df['Holiday'].value_counts()"
   ]
  },
  {
   "cell_type": "code",
   "execution_count": 225,
   "metadata": {},
   "outputs": [],
   "source": [
    "df['Holiday']=df['Holiday'].map({'No Holiday':0,'Holiday':1})\n",
    "df['Functioning Day']=df['Functioning Day'].map({'Yes':1,'No':0})"
   ]
  },
  {
   "cell_type": "code",
   "execution_count": 226,
   "metadata": {},
   "outputs": [
    {
     "data": {
      "text/plain": [
       "1    8465\n",
       "0     295\n",
       "Name: Functioning Day, dtype: int64"
      ]
     },
     "execution_count": 226,
     "metadata": {},
     "output_type": "execute_result"
    }
   ],
   "source": [
    "df['Functioning Day'].value_counts()"
   ]
  },
  {
   "cell_type": "code",
   "execution_count": 227,
   "metadata": {},
   "outputs": [],
   "source": [
    "df_season=pd.get_dummies(df['Seasons'], drop_first=True)\n",
    "df_weekday=pd.get_dummies(df['Weekday'], drop_first=True)"
   ]
  },
  {
   "cell_type": "code",
   "execution_count": 228,
   "metadata": {},
   "outputs": [
    {
     "name": "stdout",
     "output_type": "stream",
     "text": [
      "<class 'pandas.core.frame.DataFrame'>\n",
      "RangeIndex: 8760 entries, 0 to 8759\n",
      "Data columns (total 16 columns):\n",
      " #   Column                   Non-Null Count  Dtype  \n",
      "---  ------                   --------------  -----  \n",
      " 0   Rented Bike Count        8760 non-null   int64  \n",
      " 1   Hour                     8760 non-null   int64  \n",
      " 2   Temperature(°C)          8760 non-null   float64\n",
      " 3   Humidity(%)              8760 non-null   int64  \n",
      " 4   Wind speed (m/s)         8760 non-null   float64\n",
      " 5   Visibility (10m)         8760 non-null   int64  \n",
      " 6   Solar Radiation (MJ/m2)  8760 non-null   float64\n",
      " 7   Rainfall(mm)             8760 non-null   float64\n",
      " 8   Snowfall (cm)            8760 non-null   float64\n",
      " 9   Seasons                  8760 non-null   object \n",
      " 10  Holiday                  8760 non-null   int64  \n",
      " 11  Functioning Day          8760 non-null   int64  \n",
      " 12  Day                      8760 non-null   int64  \n",
      " 13  Month                    8760 non-null   int64  \n",
      " 14  Year                     8760 non-null   int64  \n",
      " 15  Weekday                  8760 non-null   object \n",
      "dtypes: float64(5), int64(9), object(2)\n",
      "memory usage: 1.1+ MB\n"
     ]
    }
   ],
   "source": [
    "df.info()"
   ]
  },
  {
   "cell_type": "code",
   "execution_count": 229,
   "metadata": {
    "colab": {
     "base_uri": "https://localhost:8080/"
    },
    "executionInfo": {
     "elapsed": 883,
     "status": "ok",
     "timestamp": 1717615273262,
     "user": {
      "displayName": "Sugam Raval",
      "userId": "16921025679813916176"
     },
     "user_tz": 420
    },
    "id": "c7zp4kjFo20X",
    "outputId": "0c7022ab-330c-47a4-ddf8-b9a7cfe9d510"
   },
   "outputs": [],
   "source": [
    "df=pd.concat([df,df_season,df_weekday],axis=1)"
   ]
  },
  {
   "cell_type": "code",
   "execution_count": 230,
   "metadata": {},
   "outputs": [
    {
     "name": "stdout",
     "output_type": "stream",
     "text": [
      "<class 'pandas.core.frame.DataFrame'>\n",
      "RangeIndex: 8760 entries, 0 to 8759\n",
      "Data columns (total 25 columns):\n",
      " #   Column                   Non-Null Count  Dtype  \n",
      "---  ------                   --------------  -----  \n",
      " 0   Rented Bike Count        8760 non-null   int64  \n",
      " 1   Hour                     8760 non-null   int64  \n",
      " 2   Temperature(°C)          8760 non-null   float64\n",
      " 3   Humidity(%)              8760 non-null   int64  \n",
      " 4   Wind speed (m/s)         8760 non-null   float64\n",
      " 5   Visibility (10m)         8760 non-null   int64  \n",
      " 6   Solar Radiation (MJ/m2)  8760 non-null   float64\n",
      " 7   Rainfall(mm)             8760 non-null   float64\n",
      " 8   Snowfall (cm)            8760 non-null   float64\n",
      " 9   Seasons                  8760 non-null   object \n",
      " 10  Holiday                  8760 non-null   int64  \n",
      " 11  Functioning Day          8760 non-null   int64  \n",
      " 12  Day                      8760 non-null   int64  \n",
      " 13  Month                    8760 non-null   int64  \n",
      " 14  Year                     8760 non-null   int64  \n",
      " 15  Weekday                  8760 non-null   object \n",
      " 16  Spring                   8760 non-null   uint8  \n",
      " 17  Summer                   8760 non-null   uint8  \n",
      " 18  Winter                   8760 non-null   uint8  \n",
      " 19  Monday                   8760 non-null   uint8  \n",
      " 20  Saturday                 8760 non-null   uint8  \n",
      " 21  Sunday                   8760 non-null   uint8  \n",
      " 22  Thursday                 8760 non-null   uint8  \n",
      " 23  Tuesday                  8760 non-null   uint8  \n",
      " 24  Wednesday                8760 non-null   uint8  \n",
      "dtypes: float64(5), int64(9), object(2), uint8(9)\n",
      "memory usage: 1.1+ MB\n"
     ]
    }
   ],
   "source": [
    "df.info()"
   ]
  },
  {
   "cell_type": "code",
   "execution_count": 231,
   "metadata": {},
   "outputs": [],
   "source": [
    "df.drop(['Seasons','Weekday'],axis=1,inplace=True)"
   ]
  },
  {
   "cell_type": "code",
   "execution_count": 232,
   "metadata": {},
   "outputs": [
    {
     "name": "stdout",
     "output_type": "stream",
     "text": [
      "<class 'pandas.core.frame.DataFrame'>\n",
      "RangeIndex: 8760 entries, 0 to 8759\n",
      "Data columns (total 23 columns):\n",
      " #   Column                   Non-Null Count  Dtype  \n",
      "---  ------                   --------------  -----  \n",
      " 0   Rented Bike Count        8760 non-null   int64  \n",
      " 1   Hour                     8760 non-null   int64  \n",
      " 2   Temperature(°C)          8760 non-null   float64\n",
      " 3   Humidity(%)              8760 non-null   int64  \n",
      " 4   Wind speed (m/s)         8760 non-null   float64\n",
      " 5   Visibility (10m)         8760 non-null   int64  \n",
      " 6   Solar Radiation (MJ/m2)  8760 non-null   float64\n",
      " 7   Rainfall(mm)             8760 non-null   float64\n",
      " 8   Snowfall (cm)            8760 non-null   float64\n",
      " 9   Holiday                  8760 non-null   int64  \n",
      " 10  Functioning Day          8760 non-null   int64  \n",
      " 11  Day                      8760 non-null   int64  \n",
      " 12  Month                    8760 non-null   int64  \n",
      " 13  Year                     8760 non-null   int64  \n",
      " 14  Spring                   8760 non-null   uint8  \n",
      " 15  Summer                   8760 non-null   uint8  \n",
      " 16  Winter                   8760 non-null   uint8  \n",
      " 17  Monday                   8760 non-null   uint8  \n",
      " 18  Saturday                 8760 non-null   uint8  \n",
      " 19  Sunday                   8760 non-null   uint8  \n",
      " 20  Thursday                 8760 non-null   uint8  \n",
      " 21  Tuesday                  8760 non-null   uint8  \n",
      " 22  Wednesday                8760 non-null   uint8  \n",
      "dtypes: float64(5), int64(9), uint8(9)\n",
      "memory usage: 1.0 MB\n"
     ]
    }
   ],
   "source": [
    "df.info()"
   ]
  },
  {
   "cell_type": "code",
   "execution_count": 233,
   "metadata": {},
   "outputs": [
    {
     "data": {
      "text/html": [
       "<div>\n",
       "<style scoped>\n",
       "    .dataframe tbody tr th:only-of-type {\n",
       "        vertical-align: middle;\n",
       "    }\n",
       "\n",
       "    .dataframe tbody tr th {\n",
       "        vertical-align: top;\n",
       "    }\n",
       "\n",
       "    .dataframe thead th {\n",
       "        text-align: right;\n",
       "    }\n",
       "</style>\n",
       "<table border=\"1\" class=\"dataframe\">\n",
       "  <thead>\n",
       "    <tr style=\"text-align: right;\">\n",
       "      <th></th>\n",
       "      <th>Rented Bike Count</th>\n",
       "      <th>Hour</th>\n",
       "      <th>Temperature(°C)</th>\n",
       "      <th>Humidity(%)</th>\n",
       "      <th>Wind speed (m/s)</th>\n",
       "      <th>Visibility (10m)</th>\n",
       "      <th>Solar Radiation (MJ/m2)</th>\n",
       "      <th>Rainfall(mm)</th>\n",
       "      <th>Snowfall (cm)</th>\n",
       "      <th>Holiday</th>\n",
       "      <th>...</th>\n",
       "      <th>Year</th>\n",
       "      <th>Spring</th>\n",
       "      <th>Summer</th>\n",
       "      <th>Winter</th>\n",
       "      <th>Monday</th>\n",
       "      <th>Saturday</th>\n",
       "      <th>Sunday</th>\n",
       "      <th>Thursday</th>\n",
       "      <th>Tuesday</th>\n",
       "      <th>Wednesday</th>\n",
       "    </tr>\n",
       "  </thead>\n",
       "  <tbody>\n",
       "    <tr>\n",
       "      <th>0</th>\n",
       "      <td>254</td>\n",
       "      <td>0</td>\n",
       "      <td>-5.2</td>\n",
       "      <td>37</td>\n",
       "      <td>2.2</td>\n",
       "      <td>2000</td>\n",
       "      <td>0.0</td>\n",
       "      <td>0.0</td>\n",
       "      <td>0.0</td>\n",
       "      <td>0</td>\n",
       "      <td>...</td>\n",
       "      <td>2017</td>\n",
       "      <td>0</td>\n",
       "      <td>0</td>\n",
       "      <td>1</td>\n",
       "      <td>0</td>\n",
       "      <td>0</td>\n",
       "      <td>0</td>\n",
       "      <td>1</td>\n",
       "      <td>0</td>\n",
       "      <td>0</td>\n",
       "    </tr>\n",
       "    <tr>\n",
       "      <th>1</th>\n",
       "      <td>204</td>\n",
       "      <td>1</td>\n",
       "      <td>-5.5</td>\n",
       "      <td>38</td>\n",
       "      <td>0.8</td>\n",
       "      <td>2000</td>\n",
       "      <td>0.0</td>\n",
       "      <td>0.0</td>\n",
       "      <td>0.0</td>\n",
       "      <td>0</td>\n",
       "      <td>...</td>\n",
       "      <td>2017</td>\n",
       "      <td>0</td>\n",
       "      <td>0</td>\n",
       "      <td>1</td>\n",
       "      <td>0</td>\n",
       "      <td>0</td>\n",
       "      <td>0</td>\n",
       "      <td>1</td>\n",
       "      <td>0</td>\n",
       "      <td>0</td>\n",
       "    </tr>\n",
       "    <tr>\n",
       "      <th>2</th>\n",
       "      <td>173</td>\n",
       "      <td>2</td>\n",
       "      <td>-6.0</td>\n",
       "      <td>39</td>\n",
       "      <td>1.0</td>\n",
       "      <td>2000</td>\n",
       "      <td>0.0</td>\n",
       "      <td>0.0</td>\n",
       "      <td>0.0</td>\n",
       "      <td>0</td>\n",
       "      <td>...</td>\n",
       "      <td>2017</td>\n",
       "      <td>0</td>\n",
       "      <td>0</td>\n",
       "      <td>1</td>\n",
       "      <td>0</td>\n",
       "      <td>0</td>\n",
       "      <td>0</td>\n",
       "      <td>1</td>\n",
       "      <td>0</td>\n",
       "      <td>0</td>\n",
       "    </tr>\n",
       "    <tr>\n",
       "      <th>3</th>\n",
       "      <td>107</td>\n",
       "      <td>3</td>\n",
       "      <td>-6.2</td>\n",
       "      <td>40</td>\n",
       "      <td>0.9</td>\n",
       "      <td>2000</td>\n",
       "      <td>0.0</td>\n",
       "      <td>0.0</td>\n",
       "      <td>0.0</td>\n",
       "      <td>0</td>\n",
       "      <td>...</td>\n",
       "      <td>2017</td>\n",
       "      <td>0</td>\n",
       "      <td>0</td>\n",
       "      <td>1</td>\n",
       "      <td>0</td>\n",
       "      <td>0</td>\n",
       "      <td>0</td>\n",
       "      <td>1</td>\n",
       "      <td>0</td>\n",
       "      <td>0</td>\n",
       "    </tr>\n",
       "    <tr>\n",
       "      <th>4</th>\n",
       "      <td>78</td>\n",
       "      <td>4</td>\n",
       "      <td>-6.0</td>\n",
       "      <td>36</td>\n",
       "      <td>2.3</td>\n",
       "      <td>2000</td>\n",
       "      <td>0.0</td>\n",
       "      <td>0.0</td>\n",
       "      <td>0.0</td>\n",
       "      <td>0</td>\n",
       "      <td>...</td>\n",
       "      <td>2017</td>\n",
       "      <td>0</td>\n",
       "      <td>0</td>\n",
       "      <td>1</td>\n",
       "      <td>0</td>\n",
       "      <td>0</td>\n",
       "      <td>0</td>\n",
       "      <td>1</td>\n",
       "      <td>0</td>\n",
       "      <td>0</td>\n",
       "    </tr>\n",
       "  </tbody>\n",
       "</table>\n",
       "<p>5 rows × 23 columns</p>\n",
       "</div>"
      ],
      "text/plain": [
       "   Rented Bike Count  Hour  Temperature(°C)  Humidity(%)  Wind speed (m/s)  \\\n",
       "0                254     0             -5.2           37               2.2   \n",
       "1                204     1             -5.5           38               0.8   \n",
       "2                173     2             -6.0           39               1.0   \n",
       "3                107     3             -6.2           40               0.9   \n",
       "4                 78     4             -6.0           36               2.3   \n",
       "\n",
       "   Visibility (10m)  Solar Radiation (MJ/m2)  Rainfall(mm)  Snowfall (cm)  \\\n",
       "0              2000                      0.0           0.0            0.0   \n",
       "1              2000                      0.0           0.0            0.0   \n",
       "2              2000                      0.0           0.0            0.0   \n",
       "3              2000                      0.0           0.0            0.0   \n",
       "4              2000                      0.0           0.0            0.0   \n",
       "\n",
       "   Holiday  ...  Year  Spring  Summer  Winter  Monday  Saturday  Sunday  \\\n",
       "0        0  ...  2017       0       0       1       0         0       0   \n",
       "1        0  ...  2017       0       0       1       0         0       0   \n",
       "2        0  ...  2017       0       0       1       0         0       0   \n",
       "3        0  ...  2017       0       0       1       0         0       0   \n",
       "4        0  ...  2017       0       0       1       0         0       0   \n",
       "\n",
       "   Thursday  Tuesday  Wednesday  \n",
       "0         1        0          0  \n",
       "1         1        0          0  \n",
       "2         1        0          0  \n",
       "3         1        0          0  \n",
       "4         1        0          0  \n",
       "\n",
       "[5 rows x 23 columns]"
      ]
     },
     "execution_count": 233,
     "metadata": {},
     "output_type": "execute_result"
    }
   ],
   "source": [
    "df.head()"
   ]
  },
  {
   "cell_type": "markdown",
   "metadata": {
    "id": "MlDwVcnt_1GO"
   },
   "source": [
    "# Part - 7 --> Spliting and Feature Scalling"
   ]
  },
  {
   "cell_type": "code",
   "execution_count": 234,
   "metadata": {
    "executionInfo": {
     "elapsed": 16,
     "status": "ok",
     "timestamp": 1717615273262,
     "user": {
      "displayName": "Sugam Raval",
      "userId": "16921025679813916176"
     },
     "user_tz": 420
    },
    "id": "wW0LqT3d9Toz"
   },
   "outputs": [],
   "source": [
    "# Independent and Dependent Data\n",
    "X = df.drop(columns=['Rented Bike Count'])\n",
    "y = df['Rented Bike Count']"
   ]
  },
  {
   "cell_type": "code",
   "execution_count": 235,
   "metadata": {
    "colab": {
     "base_uri": "https://localhost:8080/"
    },
    "executionInfo": {
     "elapsed": 420,
     "status": "ok",
     "timestamp": 1717616729228,
     "user": {
      "displayName": "Sugam Raval",
      "userId": "16921025679813916176"
     },
     "user_tz": 420
    },
    "id": "Zavlf-cs3lrl",
    "outputId": "9c0e302e-5184-4097-812a-50fa310bc849"
   },
   "outputs": [
    {
     "data": {
      "text/plain": [
       "Index(['Hour', 'Temperature(°C)', 'Humidity(%)', 'Wind speed (m/s)',\n",
       "       'Visibility (10m)', 'Solar Radiation (MJ/m2)', 'Rainfall(mm)',\n",
       "       'Snowfall (cm)', 'Holiday', 'Functioning Day', 'Day', 'Month', 'Year',\n",
       "       'Spring', 'Summer', 'Winter', 'Monday', 'Saturday', 'Sunday',\n",
       "       'Thursday', 'Tuesday', 'Wednesday'],\n",
       "      dtype='object')"
      ]
     },
     "execution_count": 235,
     "metadata": {},
     "output_type": "execute_result"
    }
   ],
   "source": [
    "X.columns"
   ]
  },
  {
   "cell_type": "code",
   "execution_count": 236,
   "metadata": {
    "colab": {
     "base_uri": "https://localhost:8080/"
    },
    "executionInfo": {
     "elapsed": 16,
     "status": "ok",
     "timestamp": 1717615273263,
     "user": {
      "displayName": "Sugam Raval",
      "userId": "16921025679813916176"
     },
     "user_tz": 420
    },
    "id": "bnp6L296AWUM",
    "outputId": "7ebe9bb6-6741-44b3-8f8c-584aa3462e33"
   },
   "outputs": [
    {
     "name": "stdout",
     "output_type": "stream",
     "text": [
      "Shape of X_train :  (7008, 22)\n",
      "Shape of X_test :  (1752, 22)\n",
      "Shape of y_train :  (7008,)\n",
      "Shape of y_test :  (1752,)\n"
     ]
    }
   ],
   "source": [
    "# Spliting : Train and Test Data Split\n",
    "X_train, X_test, y_train, y_test = train_test_split(X,y,test_size=0.20,random_state=2023)\n",
    "print('Shape of X_train : ',X_train.shape)\n",
    "print('Shape of X_test : ',X_test.shape)\n",
    "print('Shape of y_train : ',y_train.shape)\n",
    "print('Shape of y_test : ',y_test.shape)\n",
    "# all splitted data now in numpy array.\n",
    "# you need to pass ML model always in numpy array."
   ]
  },
  {
   "cell_type": "code",
   "execution_count": 237,
   "metadata": {
    "executionInfo": {
     "elapsed": 15,
     "status": "ok",
     "timestamp": 1717615273264,
     "user": {
      "displayName": "Sugam Raval",
      "userId": "16921025679813916176"
     },
     "user_tz": 420
    },
    "id": "BwmCYSd4A2FV"
   },
   "outputs": [],
   "source": [
    "# Scaling :  here all values in different unit and values so need to scalling that data\n",
    "sc = StandardScaler()\n",
    "X_train = sc.fit_transform(X_train)\n",
    "X_test = sc.transform(X_test)"
   ]
  },
  {
   "cell_type": "code",
   "execution_count": 238,
   "metadata": {
    "colab": {
     "base_uri": "https://localhost:8080/"
    },
    "executionInfo": {
     "elapsed": 15,
     "status": "ok",
     "timestamp": 1717615273265,
     "user": {
      "displayName": "Sugam Raval",
      "userId": "16921025679813916176"
     },
     "user_tz": 420
    },
    "id": "jcOnwfZkBYh4",
    "outputId": "3b316586-c741-4049-c042-8b7a2ace3493"
   },
   "outputs": [
    {
     "name": "stdout",
     "output_type": "stream",
     "text": [
      "Mean : [1.15323916e+01 1.28319920e+01 5.81522546e+01 1.71738014e+00\n",
      " 1.44041795e+03 5.67796804e-01 1.52539954e-01 7.52283105e-02\n",
      " 4.92294521e-02 9.67751142e-01 1.56787957e+01 6.51341324e+00\n",
      " 2.01791510e+03 2.48002283e-01 2.52711187e-01 2.50856164e-01\n",
      " 1.36986301e-01 1.42551370e-01 1.48829909e-01 1.42551370e-01\n",
      " 1.41267123e-01 1.48829909e-01]\n",
      "Scale : [6.92676802e+00 1.20220548e+01 2.04570722e+01 1.03437653e+00\n",
      " 6.06508248e+02 8.64469525e-01 1.18093896e+00 4.29006703e-01\n",
      " 2.16346743e-01 1.76660323e-01 8.78578762e+00 3.45640534e+00\n",
      " 2.78737249e-01 4.31853159e-01 4.34566730e-01 4.33505881e-01\n",
      " 3.43832888e-01 3.49614755e-01 3.55920731e-01 3.49614755e-01\n",
      " 3.48296889e-01 3.55920731e-01]\n"
     ]
    }
   ],
   "source": [
    "# check attributes of sc..\n",
    "print('Mean :', sc.mean_)\n",
    "print('Scale :',sc.scale_)\n",
    "# you can inveres it\n",
    "# sc.inverse_transform(X_train)"
   ]
  },
  {
   "cell_type": "markdown",
   "metadata": {
    "id": "fDB7hx9ZD4Q3"
   },
   "source": [
    "# Part - 8 --> Train the ML Model"
   ]
  },
  {
   "cell_type": "markdown",
   "metadata": {
    "id": "YcsvOS_XEDG9"
   },
   "source": [
    "### Linear Regression"
   ]
  },
  {
   "cell_type": "code",
   "execution_count": 239,
   "metadata": {
    "executionInfo": {
     "elapsed": 14,
     "status": "ok",
     "timestamp": 1717615273265,
     "user": {
      "displayName": "Sugam Raval",
      "userId": "16921025679813916176"
     },
     "user_tz": 420
    },
    "id": "Y1oVuawiEAWr"
   },
   "outputs": [],
   "source": [
    "# train and predict through Linear Regression Model.\n",
    "\n",
    "lr = LinearRegression()\n",
    "lr.fit(X_train,y_train)\n",
    "y_pred = lr.predict(X_test)"
   ]
  },
  {
   "cell_type": "code",
   "execution_count": 240,
   "metadata": {},
   "outputs": [
    {
     "data": {
      "text/plain": [
       "array([  82.875826  ,  976.47642256, 1409.37670678, ..., 1544.96839026,\n",
       "        504.51433769,  803.78036478])"
      ]
     },
     "execution_count": 240,
     "metadata": {},
     "output_type": "execute_result"
    }
   ],
   "source": [
    "y_pred"
   ]
  },
  {
   "cell_type": "code",
   "execution_count": 241,
   "metadata": {
    "colab": {
     "base_uri": "https://localhost:8080/"
    },
    "executionInfo": {
     "elapsed": 13,
     "status": "ok",
     "timestamp": 1717615273265,
     "user": {
      "displayName": "Sugam Raval",
      "userId": "16921025679813916176"
     },
     "user_tz": 420
    },
    "id": "PLJhsaQBL8LR",
    "outputId": "450a3cbc-18eb-48b5-a75e-fa2dbdd6f2d0"
   },
   "outputs": [
    {
     "name": "stdout",
     "output_type": "stream",
     "text": [
      "MSE :  188944.76470240726\n",
      "RMSE :  434.6777711160386\n",
      "MAE :  330.904441971385\n",
      "R2_Score Accuracy Score:  0.5371041582058084\n"
     ]
    }
   ],
   "source": [
    "# Evaluation\n",
    "MSE = mean_squared_error(y_test,y_pred)\n",
    "RMSE = np.sqrt(MSE)\n",
    "MAE = mean_absolute_error(y_test,y_pred)\n",
    "R2_Score = r2_score(y_test,y_pred)\n",
    "print('MSE : ',MSE) # need : close to 0 --> for best fit\n",
    "print('RMSE : ',RMSE) # need : close to 0 --> for best fit\n",
    "print('MAE : ',MAE) # need : close to 0 --> for best fit\n",
    "print('R2_Score Accuracy Score: ',R2_Score) # need : close to 1 --> for best fit--> It shows only 53% accuracy\n",
    "# Here not all condition is satisfide so we will not use LInear regression model"
   ]
  },
  {
   "cell_type": "code",
   "execution_count": 242,
   "metadata": {
    "colab": {
     "base_uri": "https://localhost:8080/",
     "height": 0
    },
    "executionInfo": {
     "elapsed": 783,
     "status": "ok",
     "timestamp": 1717615274035,
     "user": {
      "displayName": "Sugam Raval",
      "userId": "16921025679813916176"
     },
     "user_tz": 420
    },
    "id": "Ijtuq2VLMAzA",
    "outputId": "56df2c48-9894-45c8-954c-611ecfda20f6"
   },
   "outputs": [
    {
     "data": {
      "image/png": "[encoded data removed]",
      "text/plain": [
       "<Figure size 640x480 with 1 Axes>"
      ]
     },
     "metadata": {},
     "output_type": "display_data"
    },
    {
     "name": "stdout",
     "output_type": "stream",
     "text": [
      "Skewness : 0.9415969010789175\n"
     ]
    }
   ],
   "source": [
    "# chgececk with kde plot\n",
    "sns.kdeplot(y_test-y_pred)\n",
    "plt.show()\n",
    "print('Skewness :',(y_test-y_pred).skew())\n",
    "# NOt a proper Accurate"
   ]
  },
  {
   "cell_type": "code",
   "execution_count": 243,
   "metadata": {
    "executionInfo": {
     "elapsed": 51,
     "status": "ok",
     "timestamp": 1717615274036,
     "user": {
      "displayName": "Sugam Raval",
      "userId": "16921025679813916176"
     },
     "user_tz": 420
    },
    "id": "CQD1JMytMC4u"
   },
   "outputs": [],
   "source": [
    "# Conclusion : --> Linear Regression MOdel is not accurate because onlt 53% accuracy"
   ]
  },
  {
   "cell_type": "markdown",
   "metadata": {
    "id": "8Ud--jHda0mF"
   },
   "source": [
    "# Part - 9 --> Other Model Checking"
   ]
  },
  {
   "cell_type": "code",
   "execution_count": 244,
   "metadata": {
    "colab": {
     "base_uri": "https://localhost:8080/"
    },
    "executionInfo": {
     "elapsed": 27687,
     "status": "ok",
     "timestamp": 1717615301673,
     "user": {
      "displayName": "Sugam Raval",
      "userId": "16921025679813916176"
     },
     "user_tz": 420
    },
    "id": "zRDpEMMia7wQ",
    "outputId": "cda88005-8eca-431f-9efc-3816a93096d7"
   },
   "outputs": [],
   "source": [
    "# Importing Model\n",
    "from sklearn.linear_model import LinearRegression\n",
    "from sklearn.linear_model import Ridge,Lasso\n",
    "from sklearn.preprocessing import PolynomialFeatures\n",
    "from sklearn.svm import SVR\n",
    "from sklearn.tree import DecisionTreeRegressor\n",
    "from sklearn.neighbors import KNeighborsRegressor\n",
    "from sklearn.ensemble import RandomForestRegressor\n",
    "from sklearn.ensemble import GradientBoostingRegressor\n",
    "from sklearn.ensemble import AdaBoostRegressor\n",
    "from xgboost import XGBRegressor\n"
   ]
  },
  {
   "cell_type": "code",
   "execution_count": 245,
   "metadata": {
    "executionInfo": {
     "elapsed": 577,
     "status": "ok",
     "timestamp": 1717615301674,
     "user": {
      "displayName": "Sugam Raval",
      "userId": "16921025679813916176"
     },
     "user_tz": 420
    },
    "id": "NNQchm0lb1Hm"
   },
   "outputs": [],
   "source": [
    "# create function for Score and Error\n",
    "def model_score(y_test,y_pred,model):\n",
    "  MSE = mean_squared_error(y_test,y_pred)\n",
    "  RMSE = np.sqrt(MSE)\n",
    "  MAE = mean_absolute_error(y_test,y_pred)\n",
    "  R2_Score = r2_score(y_test,y_pred)\n",
    "  print(f\"{model} : ['MSE':{MSE.round(3)}, 'RMSE':{RMSE.round(3)}, 'MAE':{MAE.round(3)},'R2':{R2_Score.round(3)}]\")\n"
   ]
  },
  {
   "cell_type": "code",
   "execution_count": 246,
   "metadata": {},
   "outputs": [
    {
     "name": "stdout",
     "output_type": "stream",
     "text": [
      "LinearRegression : ['MSE':188944.765, 'RMSE':434.678, 'MAE':330.904,'R2':0.537]\n"
     ]
    }
   ],
   "source": [
    "model_score(y_test,y_pred,'LinearRegression')"
   ]
  },
  {
   "cell_type": "markdown",
   "metadata": {
    "id": "FS6y4I5khqXY"
   },
   "source": [
    "### Train and predict Model"
   ]
  },
  {
   "cell_type": "code",
   "execution_count": 247,
   "metadata": {
    "executionInfo": {
     "elapsed": 28023,
     "status": "ok",
     "timestamp": 1717615329693,
     "user": {
      "displayName": "Sugam Raval",
      "userId": "16921025679813916176"
     },
     "user_tz": 420
    },
    "id": "5vsQMlRtco4m"
   },
   "outputs": [],
   "source": [
    "# Create model Fit and predict\n",
    "\n",
    "# LinearRgressor\n",
    "lr = LinearRegression().fit(X_train,y_train)\n",
    "y_pred_lr = lr.predict(X_test)\n",
    "\n",
    "# Lasso\n",
    "lso = Lasso().fit(X_train,y_train)\n",
    "y_pred_lso = lso.predict(X_test)\n",
    "\n",
    "# Ridge\n",
    "rdg = Ridge().fit(X_train,y_train)\n",
    "y_pred_rdg = rdg.predict(X_test)\n",
    "\n",
    "# PolynomialFeatures\n",
    "plf = PolynomialFeatures(2)\n",
    "X_train_plf = plf.fit_transform(X_train)\n",
    "X_test_plf = plf.fit_transform(X_test)\n",
    "plf_lr = LinearRegression().fit(X_train_plf,y_train)\n",
    "y_pred_poly = plf_lr.predict(X_test_plf)\n",
    "\n",
    "# SVR\n",
    "svr = SVR().fit(X_train,y_train)\n",
    "y_pred_svr = svr.predict(X_test)\n",
    "\n",
    "# DecisionTreeRegressor\n",
    "dtr = DecisionTreeRegressor().fit(X_train,y_train)\n",
    "y_pred_dtr = dtr.predict(X_test)\n",
    "\n",
    "# KNNRegressor\n",
    "knr = KNeighborsRegressor().fit(X_train,y_train)\n",
    "y_pred_knr = knr.predict(X_test)\n",
    "\n",
    "# RandomForestRegressor\n",
    "rfr = RandomForestRegressor().fit(X_train,y_train)\n",
    "y_pred_rfr = rfr.predict(X_test)\n",
    "\n",
    "# AdaBoostRegressor\n",
    "adb = AdaBoostRegressor().fit(X_train,y_train)\n",
    "y_pred_adb = adb.predict(X_test)\n",
    "\n",
    "# GradientBoostingRegressor\n",
    "gbr = GradientBoostingRegressor().fit(X_train,y_train)\n",
    "y_pred_gbr = gbr.predict(X_test)\n",
    "\n",
    "# XGBRegressor\n",
    "xgbr = XGBRegressor().fit(X_train,y_train)\n",
    "y_pred_xgbr = xgbr.predict(X_test)"
   ]
  },
  {
   "cell_type": "code",
   "execution_count": 248,
   "metadata": {
    "colab": {
     "base_uri": "https://localhost:8080/"
    },
    "executionInfo": {
     "elapsed": 53,
     "status": "ok",
     "timestamp": 1717615329694,
     "user": {
      "displayName": "Sugam Raval",
      "userId": "16921025679813916176"
     },
     "user_tz": 420
    },
    "id": "J3IwJupTftHI",
    "outputId": "ec46889e-cf56-4088-df9d-ac247b0a22a0"
   },
   "outputs": [
    {
     "name": "stdout",
     "output_type": "stream",
     "text": [
      "LinearRegression : ['MSE':188944.765, 'RMSE':434.678, 'MAE':330.904,'R2':0.537]\n",
      "Lasso : ['MSE':188895.35, 'RMSE':434.621, 'MAE':330.551,'R2':0.537]\n",
      "Ridge : ['MSE':188944.168, 'RMSE':434.677, 'MAE':330.898,'R2':0.537]\n",
      "PolynomialFeatures : ['MSE':125296.548, 'RMSE':353.973, 'MAE':248.153,'R2':0.693]\n",
      "SVR : ['MSE':318011.649, 'RMSE':563.925, 'MAE':386.276,'R2':0.221]\n",
      "DecisionTreeRegressor : ['MSE':90288.37, 'RMSE':300.48, 'MAE':168.801,'R2':0.779]\n",
      "KNeighborsRegressor : ['MSE':102739.999, 'RMSE':320.531, 'MAE':210.222,'R2':0.748]\n",
      "RandomForestRegressor : ['MSE':40342.55, 'RMSE':200.855, 'MAE':120.692,'R2':0.901]\n",
      "AdaBoostRegressor : ['MSE':199382.86, 'RMSE':446.523, 'MAE':384.054,'R2':0.512]\n",
      "GradientBoostingRegressor : ['MSE':64093.093, 'RMSE':253.166, 'MAE':172.764,'R2':0.843]\n",
      "XGBRegressor : ['MSE':33114.133, 'RMSE':181.973, 'MAE':113.528,'R2':0.919]\n"
     ]
    }
   ],
   "source": [
    "# Prediction\n",
    "model_score(y_test,y_pred_lr,'LinearRegression')\n",
    "model_score(y_test,y_pred_lso,'Lasso')\n",
    "model_score(y_test,y_pred_rdg,'Ridge')\n",
    "model_score(y_test,y_pred_poly,'PolynomialFeatures')\n",
    "model_score(y_test,y_pred_svr,'SVR')\n",
    "model_score(y_test,y_pred_dtr,'DecisionTreeRegressor')\n",
    "model_score(y_test,y_pred_knr,'KNeighborsRegressor')\n",
    "model_score(y_test,y_pred_rfr,'RandomForestRegressor')\n",
    "model_score(y_test,y_pred_adb,'AdaBoostRegressor')\n",
    "model_score(y_test,y_pred_gbr,'GradientBoostingRegressor')\n",
    "model_score(y_test,y_pred_xgbr,'XGBRegressor')"
   ]
  },
  {
   "cell_type": "markdown",
   "metadata": {
    "id": "UdSgw-G0hJTp"
   },
   "source": [
    "### **We Found 2 best model on this Data :**<br>\n",
    "1) RandomForestRegressor : 90% accuracy with low error <br>\n",
    "2) XGBRegressor : 91% accuracy with low error <br>"
   ]
  },
  {
   "cell_type": "markdown",
   "metadata": {
    "id": "9nQ24QjJihW4"
   },
   "source": [
    "### Model Visualization"
   ]
  },
  {
   "cell_type": "code",
   "execution_count": 249,
   "metadata": {
    "colab": {
     "base_uri": "https://localhost:8080/",
     "height": 0
    },
    "executionInfo": {
     "elapsed": 5044,
     "status": "ok",
     "timestamp": 1717615334713,
     "user": {
      "displayName": "Sugam Raval",
      "userId": "16921025679813916176"
     },
     "user_tz": 420
    },
    "id": "Za6SIWqyil5a",
    "outputId": "de2a81fc-0538-4197-9c65-ad14608560f4"
   },
   "outputs": [
    {
     "data": {
      "image/png": "[encoded data removed]",
      "text/plain": [
       "<Figure size 1200x1000 with 6 Axes>"
      ]
     },
     "metadata": {},
     "output_type": "display_data"
    }
   ],
   "source": [
    "fig,ax = plt.subplots(3,2,figsize=(12,10))\n",
    "\n",
    "ax[0,0].set_title('Linear Regression Model')\n",
    "ax[0,0].scatter(y_test,y_pred_lr)\n",
    "sns.kdeplot(y_test-y_pred_lr,ax=ax[0,1])\n",
    "\n",
    "ax[1,0].set_title('Random Forest Model')\n",
    "ax[1,0].scatter(y_test,y_pred_rfr)\n",
    "sns.kdeplot(y_test-y_pred_rfr,ax=ax[1,1])\n",
    "\n",
    "ax[2,0].set_title('XBR Model')\n",
    "ax[2,0].scatter(y_test,y_pred_xgbr)\n",
    "sns.kdeplot(y_test-y_pred_xgbr,ax=ax[2,1])\n",
    "plt.show()"
   ]
  },
  {
   "cell_type": "markdown",
   "metadata": {
    "id": "Eh9gzMaBpJsN"
   },
   "source": []
  },
  {
   "cell_type": "markdown",
   "metadata": {
    "id": "JHyvRPySpK62"
   },
   "source": [
    "# Part - 10 --> Cross validation & Fine Tune Model"
   ]
  },
  {
   "cell_type": "code",
   "execution_count": 250,
   "metadata": {
    "executionInfo": {
     "elapsed": 307,
     "status": "ok",
     "timestamp": 1717615334714,
     "user": {
      "displayName": "Sugam Raval",
      "userId": "16921025679813916176"
     },
     "user_tz": 420
    },
    "id": "4wmY4IOopSca"
   },
   "outputs": [],
   "source": [
    "# There are 2 cross validation techniques\n",
    "# 1) RandomizedSearchCV --> Here we use this......\n",
    "# 2) GridSearchCV"
   ]
  },
  {
   "cell_type": "code",
   "execution_count": 251,
   "metadata": {
    "executionInfo": {
     "elapsed": 302,
     "status": "ok",
     "timestamp": 1717615334714,
     "user": {
      "displayName": "Sugam Raval",
      "userId": "16921025679813916176"
     },
     "user_tz": 420
    },
    "id": "wFVSPtTqp1c7"
   },
   "outputs": [],
   "source": [
    "from sklearn.model_selection import RandomizedSearchCV"
   ]
  },
  {
   "cell_type": "markdown",
   "metadata": {
    "id": "VEgphfsWwly_"
   },
   "source": [
    "### Hyperparameter Tuning of RandomForestRegressor"
   ]
  },
  {
   "cell_type": "code",
   "execution_count": 252,
   "metadata": {
    "executionInfo": {
     "elapsed": 300,
     "status": "ok",
     "timestamp": 1717615334714,
     "user": {
      "displayName": "Sugam Raval",
      "userId": "16921025679813916176"
     },
     "user_tz": 420
    },
    "id": "DAVnF85XpjFA"
   },
   "outputs": [],
   "source": [
    "# RandomForestRegressor  :  Fine tune and cross validation\n",
    "\n",
    "# The number of trees in the forest.\n",
    "n_estimators = [int(x) for x in np.linspace(start = 200, stop = 2000, num = 10)]\n",
    "\n",
    "# Maximum no. of levels allowed in each decision tree\n",
    "max_depth = [int(x) for x in np.linspace(10, 120, num = 12)]\n",
    "\n",
    "# Minimum no. of samples required to split the node.\n",
    "min_samples_split = [2, 5, 10]\n",
    "\n",
    "# Minimum no. of samples required at each leaf node.\n",
    "min_samples_leaf = [1, 2, 4]\n",
    "\n",
    "# No. of features to be considered at every split\n",
    "max_features = ['auto', 'sqrt']\n",
    "\n",
    "# Whether bootstrap samples are used when building trees. If False, the whole dataset is used to build each tree.\n",
    "bootstrap = [True, False]\n",
    "\n",
    "parameters = {'n_estimators':n_estimators,'max_depth':max_depth,'min_samples_split':min_samples_split,\n",
    "              'min_samples_leaf':min_samples_leaf,'max_features':max_features,'bootstrap':bootstrap}\n",
    "\n"
   ]
  },
  {
   "cell_type": "code",
   "execution_count": 253,
   "metadata": {
    "executionInfo": {
     "elapsed": 299,
     "status": "ok",
     "timestamp": 1717615334714,
     "user": {
      "displayName": "Sugam Raval",
      "userId": "16921025679813916176"
     },
     "user_tz": 420
    },
    "id": "rtGu8V2O0N2V"
   },
   "outputs": [],
   "source": [
    "# --- It takes too much time so we commented it and directly use best_params which has already obtain by run program in video.\n",
    "#_------------------------------------------------------------------------------------------------------------------------\n",
    "# import time\n",
    "# start = time.time()\n",
    "\n",
    "# rf_random = RandomizedSearchCV(RandomForestRegressor(),parameters,cv=3,n_iter=100,n_jobs=-1,verbose=2,random_state=242)\n",
    "# rf_random.fit(X_train,y_train)\n",
    "# y_pred_rf_random = rf_random.predict(X_test)\n",
    "\n",
    "# print('Time taken : ',time.time()-start)"
   ]
  },
  {
   "cell_type": "code",
   "execution_count": 254,
   "metadata": {
    "executionInfo": {
     "elapsed": 298,
     "status": "ok",
     "timestamp": 1717615334715,
     "user": {
      "displayName": "Sugam Raval",
      "userId": "16921025679813916176"
     },
     "user_tz": 420
    },
    "id": "KDNbo83f0yDo"
   },
   "outputs": [],
   "source": [
    "# rf_random.best_params_\n",
    "#----->\n",
    "# {'n_estimators':400,'max_depth':120,'min_samples_split':2,\n",
    "# 'min_samples_leaf':1,'max_features':'sqrt','bootstrap':False}"
   ]
  },
  {
   "cell_type": "code",
   "execution_count": 255,
   "metadata": {
    "colab": {
     "base_uri": "https://localhost:8080/"
    },
    "executionInfo": {
     "elapsed": 18087,
     "status": "ok",
     "timestamp": 1717615352759,
     "user": {
      "displayName": "Sugam Raval",
      "userId": "16921025679813916176"
     },
     "user_tz": 420
    },
    "id": "IOFH6PRt1OJ-",
    "outputId": "3e57fbfb-8c72-4d9e-abd1-e94984f243a4"
   },
   "outputs": [
    {
     "name": "stdout",
     "output_type": "stream",
     "text": [
      "Random Forest Tuned : ['MSE':37559.06, 'RMSE':193.802, 'MAE':121.792,'R2':0.908]\n"
     ]
    }
   ],
   "source": [
    "# with best parameters\n",
    "rf_tuned = RandomForestRegressor(n_estimators=400,max_depth=120,min_samples_split=2,\n",
    "                                 min_samples_leaf=1,max_features='sqrt',bootstrap=False)\n",
    "rf_tuned.fit(X_train,y_train)\n",
    "y_pred_rf_tuned = rf_tuned.predict(X_test)\n",
    "model_score(y_test,y_pred_rf_tuned,'Random Forest Tuned')\n",
    "# we got mor accuracy compare to pevious random forest model ----> Now : 90.8%"
   ]
  },
  {
   "cell_type": "markdown",
   "metadata": {
    "id": "58JgsOzB0k0m"
   },
   "source": [
    "### Hyperparameter Tuning of XGBoostRegressor"
   ]
  },
  {
   "cell_type": "code",
   "execution_count": null,
   "metadata": {
    "executionInfo": {
     "elapsed": 154,
     "status": "ok",
     "timestamp": 1717615352759,
     "user": {
      "displayName": "Sugam Raval",
      "userId": "16921025679813916176"
     },
     "user_tz": 420
    },
    "id": "xu0pvenvyC0K"
   },
   "outputs": [
    {
     "name": "stdout",
     "output_type": "stream",
     "text": [
      "Fitting 5 folds for each of 25 candidates, totalling 125 fits\n"
     ]
    }
   ],
   "source": [
    "# for XGBR Hyperparameter Tunning\n",
    "params = {'max_depth':[3,5,6,10,15,20],\n",
    "          'learning_rate':[0.01,0.1,0.2,0.3],\n",
    "          'subsample':np.arange(0.5,1.0,0.1),\n",
    "          'colsample_bytree':np.arange(0.4,1.0,0.1),\n",
    "          'colsample_bylevel':np.arange(0.4,1.0,0.1),\n",
    "          'n_estimators':[100,500,1000]}\n",
    "\n",
    "rscv = RandomizedSearchCV(XGBRegressor(seed=20),params,scoring='neg_mean_squared_error',\n",
    "                   n_iter=25,cv=5,verbose=1)\n",
    "rscv.fit(X_train,y_train)\n",
    "y_pred_xgbr_random = rscv.predict(X_test)"
   ]
  },
  {
   "cell_type": "code",
   "execution_count": null,
   "metadata": {
    "executionInfo": {
     "elapsed": 150,
     "status": "ok",
     "timestamp": 1717615352760,
     "user": {
      "displayName": "Sugam Raval",
      "userId": "16921025679813916176"
     },
     "user_tz": 420
    },
    "id": "fCSjenkaqJTj"
   },
   "outputs": [],
   "source": [
    "# rscv.best_params_\n",
    "#---->\n",
    "#{'max_depth': 6,\n",
    "#           'learning_rate':0.09,\n",
    "#           'subsample': 0.6,\n",
    "#           'colsample_bytree': 0.7,\n",
    "#           'colsample_bylevel': 0.4,\n",
    "#           'n_estimators': 1000}\n"
   ]
  },
  {
   "cell_type": "code",
   "execution_count": null,
   "metadata": {
    "colab": {
     "base_uri": "https://localhost:8080/"
    },
    "executionInfo": {
     "elapsed": 5830,
     "status": "ok",
     "timestamp": 1717615358448,
     "user": {
      "displayName": "Sugam Raval",
      "userId": "16921025679813916176"
     },
     "user_tz": 420
    },
    "id": "m9OwZGJL4fGE",
    "outputId": "7a1eaa40-bd5f-4be9-8abc-c069028e4297"
   },
   "outputs": [],
   "source": [
    "xgbr_tuned = XGBRegressor(max_depth=6,learning_rate=0.09,subsample=0.6,\n",
    "                           colsample_bytree=0.7,colsample_bylevel=0.4,n_estimators=1000,seed=20)\n",
    "xgbr_tuned.fit(X_train,y_train)\n",
    "y_pred_xgbr_tuned = xgbr_tuned.predict(X_test)\n",
    "model_score(y_test,y_pred_xgbr_tuned,'XGBRegressor Tuned')\n",
    "\n",
    "# we got mor accuracy compare to pevious random forest model ----> Now : 0.927"
   ]
  },
  {
   "cell_type": "markdown",
   "metadata": {
    "id": "AhGq--3g_Mrf"
   },
   "source": [
    "# Part - 11 --> Save Best ML Model / use that model for inferance"
   ]
  },
  {
   "cell_type": "code",
   "execution_count": null,
   "metadata": {
    "executionInfo": {
     "elapsed": 48,
     "status": "ok",
     "timestamp": 1717615358448,
     "user": {
      "displayName": "Sugam Raval",
      "userId": "16921025679813916176"
     },
     "user_tz": 420
    },
    "id": "veOo7hCe_dUm"
   },
   "outputs": [],
   "source": [
    "import pickle\n",
    "import os\n",
    "from datetime import datetime\n",
    "import pandas as pd\n",
    "import numpy as np"
   ]
  },
  {
   "cell_type": "markdown",
   "metadata": {
    "id": "sMAURLzmARp1"
   },
   "source": [
    "### Dump Model"
   ]
  },
  {
   "cell_type": "code",
   "execution_count": null,
   "metadata": {
    "executionInfo": {
     "elapsed": 44,
     "status": "ok",
     "timestamp": 1717615358449,
     "user": {
      "displayName": "Sugam Raval",
      "userId": "16921025679813916176"
     },
     "user_tz": 420
    },
    "id": "Mr1Wl7ON_axn"
   },
   "outputs": [],
   "source": [
    "# dump the model for future use...\n",
    "pickle.dump(xgbr_tuned,open('xgboost_regressor_r3_0_93_v1.pkl','wb'))\n",
    "# xgboost_regressor_r3_0_93_v1 --> 'modelname_scoringparams_score_version'"
   ]
  },
  {
   "cell_type": "markdown",
   "metadata": {
    "id": "4SDqQsrYAUmt"
   },
   "source": [
    "### Load Model and Predict data [ Inferance ]"
   ]
  },
  {
   "cell_type": "code",
   "execution_count": null,
   "metadata": {
    "executionInfo": {
     "elapsed": 1135,
     "status": "ok",
     "timestamp": 1717615359541,
     "user": {
      "displayName": "Sugam Raval",
      "userId": "16921025679813916176"
     },
     "user_tz": 420
    },
    "id": "h_1w1575AYPX"
   },
   "outputs": [],
   "source": [
    "path = r\"D:\\Bike_demand_prediction\\StandardScaler.pkl\"\n",
    "model = pickle.load(open(path,'rb'))"
   ]
  },
  {
   "cell_type": "code",
   "execution_count": null,
   "metadata": {},
   "outputs": [],
   "source": [
    "# prediction=model.predict(x_test)"
   ]
  },
  {
   "cell_type": "code",
   "execution_count": null,
   "metadata": {
    "colab": {
     "base_uri": "https://localhost:8080/"
    },
    "executionInfo": {
     "elapsed": 55,
     "status": "ok",
     "timestamp": 1717615359542,
     "user": {
      "displayName": "Sugam Raval",
      "userId": "16921025679813916176"
     },
     "user_tz": 420
    },
    "id": "Y3M66krwEAkr",
    "outputId": "8989a31a-d097-4211-e8ed-6fab93da7a9e"
   },
   "outputs": [],
   "source": [
    "r2_score(y_test,prediction)\n",
    "# now it is consist with 93% accuracy...."
   ]
  },
  {
   "cell_type": "code",
   "execution_count": null,
   "metadata": {
    "colab": {
     "base_uri": "https://localhost:8080/",
     "height": 0
    },
    "executionInfo": {
     "elapsed": 52,
     "status": "ok",
     "timestamp": 1717615359543,
     "user": {
      "displayName": "Sugam Raval",
      "userId": "16921025679813916176"
     },
     "user_tz": 420
    },
    "id": "ZB6SgR2HEm-E",
    "outputId": "67463cad-47bd-4de9-de77-5a8912ef2c6a"
   },
   "outputs": [],
   "source": [
    "sns.kdeplot(y_test-prediction)\n",
    "plt.show()"
   ]
  },
  {
   "cell_type": "markdown",
   "metadata": {
    "id": "qP5DjBEA6_mJ"
   },
   "source": [
    "# Part - 12 --> Dump StandardScaler for Future Prediction"
   ]
  },
  {
   "cell_type": "markdown",
   "metadata": {
    "id": "J4uGKAfY-nH9"
   },
   "source": [
    "### Dump StandardScaler"
   ]
  },
  {
   "cell_type": "code",
   "execution_count": null,
   "metadata": {
    "colab": {
     "base_uri": "https://localhost:8080/",
     "height": 0
    },
    "executionInfo": {
     "elapsed": 47,
     "status": "ok",
     "timestamp": 1717615359543,
     "user": {
      "displayName": "Sugam Raval",
      "userId": "16921025679813916176"
     },
     "user_tz": 420
    },
    "id": "x6O_Pbn-7JnZ",
    "outputId": "5511c424-cb67-4a98-c2c5-cd355ba2329b"
   },
   "outputs": [],
   "source": [
    "sc"
   ]
  },
  {
   "cell_type": "code",
   "execution_count": null,
   "metadata": {
    "executionInfo": {
     "elapsed": 44,
     "status": "ok",
     "timestamp": 1717615359543,
     "user": {
      "displayName": "Sugam Raval",
      "userId": "16921025679813916176"
     },
     "user_tz": 420
    },
    "id": "Ns-PyrOD-r3a"
   },
   "outputs": [],
   "source": [
    "# Dump StandardScaler\n",
    "pickle.dump(sc,open('StandardScaler.pkl','wb'))"
   ]
  },
  {
   "cell_type": "markdown",
   "metadata": {
    "id": "VY3sbC0s_fhK"
   },
   "source": [
    "### Load StandardScaler"
   ]
  },
  {
   "cell_type": "code",
   "execution_count": null,
   "metadata": {
    "colab": {
     "base_uri": "https://localhost:8080/"
    },
    "executionInfo": {
     "elapsed": 44,
     "status": "ok",
     "timestamp": 1717615359544,
     "user": {
      "displayName": "Sugam Raval",
      "userId": "16921025679813916176"
     },
     "user_tz": 420
    },
    "id": "JSvYtzpH_DJb",
    "outputId": "8f32193e-a74f-48f5-90a6-341a829c6c25"
   },
   "outputs": [],
   "source": [
    "# load StandardScaler\n",
    "sc = pickle.load(open(r'D:\\Bike_demand_prediction\\StandardScaler.pkl','rb'))\n",
    "sc.mean_"
   ]
  },
  {
   "cell_type": "markdown",
   "metadata": {},
   "source": [
    "## converting user data into model consumable format"
   ]
  },
  {
   "cell_type": "code",
   "execution_count": null,
   "metadata": {},
   "outputs": [],
   "source": [
    "holiday_dict={\"No Holiday\":0, \"Holiday\":1}\n",
    "functioning_day_dict={\"No\":0, \"Yes\":1}\n",
    "def get_datetime(date):\n",
    "    dt=datetime.strptime(date,\"%d/%m/%Y\")\n",
    "    return({\"day\": dt.day,\"month\": dt.month,\"year\": dt.year,\"weekday\": dt.strftime(\"%A\")})\n",
    "\n"
   ]
  },
  {
   "cell_type": "code",
   "execution_count": null,
   "metadata": {},
   "outputs": [],
   "source": [
    "date=\"23/09/2024\"\n",
    "str_date=get_datetime(date)\n",
    "str_date"
   ]
  },
  {
   "cell_type": "code",
   "execution_count": null,
   "metadata": {},
   "outputs": [],
   "source": [
    "df.columns"
   ]
  },
  {
   "cell_type": "code",
   "execution_count": null,
   "metadata": {},
   "outputs": [],
   "source": [
    "date=\"23/09/2024\"\n",
    "Hour=21\n",
    "Temperature=25\n",
    "Humidity=55\n",
    "Wind_speed=67\n",
    "Visibility=25\n",
    "Solar_Radiation=0.0\n",
    "Rainfall=0.7\n",
    "Snowfall=0.2\n",
    "Seasons='Winter'\n",
    "Holiday='No Holiday'\n",
    "Functioning_day='Yes'"
   ]
  },
  {
   "cell_type": "code",
   "execution_count": null,
   "metadata": {
    "scrolled": true
   },
   "outputs": [],
   "source": [
    "u_input=columns=[Hour,Temperature,Humidity,Wind_speed,Visibility,Solar_Radiation,Rainfall,Snowfall,holiday_dict[Holiday],\n",
    "         functioning_day_dict[Functioning_day],str_date['day'],str_date['month'],str_date['year']]\n",
    "features_name=['Hour','Temperature(°C)','Humidity(%)','Wind speed(m/s)','Visibility(10m)','Solar Radiation(MJ/m2)','Rainfall(mm)',\n",
    "               'Snowfall(cm)','Holiday','Functioning Day','Day','Month','Year']\n",
    "df_u_input=pd.DataFrame([u_input],columns=features_name)\n",
    "df_u_input"
   ]
  },
  {
   "cell_type": "code",
   "execution_count": null,
   "metadata": {
    "scrolled": true
   },
   "outputs": [],
   "source": [
    "u_input"
   ]
  },
  {
   "cell_type": "code",
   "execution_count": null,
   "metadata": {},
   "outputs": [],
   "source": [
    "features_name"
   ]
  },
  {
   "cell_type": "code",
   "execution_count": null,
   "metadata": {},
   "outputs": [],
   "source": [
    "def get_seasons(Seasons):\n",
    "    seasons_cols=['Spring','Summer','Winter']\n",
    "    seasons_data=np.zeros((1,len(seasons)),dtype='int')\n",
    "    df_seasons=pd.DataFrame(seasons_data,columns=seasons_cols)\n",
    "    if Seasons in seasons_cols:\n",
    "        df_seasons[Seasons]=1\n",
    "    return df_seasons\n",
    "df_season=get_seasons(Seasons)\n",
    "df_season"
   ]
  },
  {
   "cell_type": "code",
   "execution_count": null,
   "metadata": {},
   "outputs": [],
   "source": [
    "def get_days(week_day):\n",
    "    days_name=['Monday','Tuesday','Wednesday','Thursday','Friday','Saturday','Sunday']\n",
    "    days_name_data=np.zeros((1,len(days_name)),dtype='int')\n",
    "    \n",
    "    df_days=pd.DataFrame(days_name_data,columns=days_name)\n",
    "    if week_day in days_name:\n",
    "        df_days[week_day]=1\n",
    "    return df_days\n",
    "df_days=get_days(str_date['weekday'])"
   ]
  },
  {
   "cell_type": "code",
   "execution_count": null,
   "metadata": {},
   "outputs": [],
   "source": [
    "df_for_pred=pd.concat([df_u_input,df_season,df_days],axis=1)\n",
    "df_for_pred"
   ]
  },
  {
   "cell_type": "code",
   "execution_count": null,
   "metadata": {},
   "outputs": [],
   "source": [
    "sc.transform(df_for_pred)"
   ]
  },
  {
   "cell_type": "markdown",
   "metadata": {
    "id": "VBYRZIJFNT-V"
   },
   "source": [
    "# Go to the Inferance.ipynb file"
   ]
  },
  {
   "cell_type": "code",
   "execution_count": null,
   "metadata": {},
   "outputs": [],
   "source": []
  }
 ],
 "metadata": {
  "colab": {
   "authorship_tag": "ABX9TyMEo/YjF0BAmeA4pWi/j2Po",
   "collapsed_sections": [
    "CdW496C7PFAl",
    "jAJd0NO5WxPj",
    "3DCFdymtdh6G",
    "zLWaoGUbrOZ-",
    "9pSPtNhVw6cQ",
    "lrVgUknN_Mrq",
    "MlDwVcnt_1GO",
    "fDB7hx9ZD4Q3",
    "8Ud--jHda0mF",
    "FS6y4I5khqXY",
    "JHyvRPySpK62",
    "VEgphfsWwly_",
    "AhGq--3g_Mrf",
    "sMAURLzmARp1",
    "J4uGKAfY-nH9"
   ],
   "mount_file_id": "1qDgXy8T1dAke-kou406xDpcA7vncYMqN",
   "provenance": []
  },
  "kernelspec": {
   "display_name": "Python 3 (ipykernel)",
   "language": "python",
   "name": "python3"
  },
  "language_info": {
   "codemirror_mode": {
    "name": "ipython",
    "version": 3
   },
   "file_extension": ".py",
   "mimetype": "text/x-python",
   "name": "python",
   "nbconvert_exporter": "python",
   "pygments_lexer": "ipython3",
   "version": "3.11.4"
  }
 },
 "nbformat": 4,
 "nbformat_minor": 1
}
